{
 "cells": [
  {
   "cell_type": "markdown",
   "metadata": {},
   "source": [
    "# House Prices"
   ]
  },
  {
   "cell_type": "code",
   "execution_count": 2,
   "metadata": {},
   "outputs": [],
   "source": [
    "import pandas as pd\n",
    "import numpy as np\n",
    "import torch\n",
    "from torch import nn\n",
    "import d2l.torch as d2l"
   ]
  },
  {
   "cell_type": "markdown",
   "metadata": {},
   "source": [
    "### 数据准备"
   ]
  },
  {
   "cell_type": "code",
   "execution_count": 3,
   "metadata": {},
   "outputs": [
    {
     "name": "stdout",
     "output_type": "stream",
     "text": [
      "(1460, 81) (1459, 80)\n"
     ]
    }
   ],
   "source": [
    "train_data = pd.read_csv('data/train.csv')\n",
    "test_data = pd.read_csv('data/test.csv')\n",
    "print(train_data.shape, test_data.shape)"
   ]
  },
  {
   "cell_type": "markdown",
   "metadata": {},
   "source": [
    "`train_data.iloc[:,1:-1]` 不带有最后一列, 最后一列是房价, `test_data` 是最后要预测的房价"
   ]
  },
  {
   "cell_type": "code",
   "execution_count": 4,
   "metadata": {},
   "outputs": [],
   "source": [
    "all_features = pd.concat((train_data.iloc[:,1:-1], test_data.iloc[:,1:]))"
   ]
  },
  {
   "cell_type": "markdown",
   "metadata": {},
   "source": [
    "`all_features.dtypes` 是一个 `Series` 类, `name` 为 `index` , `dtype` 为 `value`"
   ]
  },
  {
   "cell_type": "code",
   "execution_count": 5,
   "metadata": {},
   "outputs": [
    {
     "data": {
      "text/plain": [
       "Index(['MSSubClass', 'LotFrontage', 'LotArea', 'OverallQual', 'OverallCond',\n",
       "       'YearBuilt', 'YearRemodAdd', 'MasVnrArea', 'BsmtFinSF1', 'BsmtFinSF2',\n",
       "       'BsmtUnfSF', 'TotalBsmtSF', '1stFlrSF', '2ndFlrSF', 'LowQualFinSF',\n",
       "       'GrLivArea', 'BsmtFullBath', 'BsmtHalfBath', 'FullBath', 'HalfBath',\n",
       "       'BedroomAbvGr', 'KitchenAbvGr', 'TotRmsAbvGrd', 'Fireplaces',\n",
       "       'GarageYrBlt', 'GarageCars', 'GarageArea', 'WoodDeckSF', 'OpenPorchSF',\n",
       "       'EnclosedPorch', '3SsnPorch', 'ScreenPorch', 'PoolArea', 'MiscVal',\n",
       "       'MoSold', 'YrSold'],\n",
       "      dtype='object')"
      ]
     },
     "execution_count": 5,
     "metadata": {},
     "output_type": "execute_result"
    }
   ],
   "source": [
    "numeric_features = all_features.dtypes[all_features.dtypes != 'object'].index\n",
    "numeric_features"
   ]
  },
  {
   "cell_type": "markdown",
   "metadata": {},
   "source": [
    "对数据进行标准化, $x = \\dfrac{x-\\mu}{\\sigma}$, 让所有的特征都是 $0$ 均值, 单位方差, 对于 $nan$ 的数据本来是应该赋平均值, 现在就只需要赋值 $0$ 就可以了"
   ]
  },
  {
   "cell_type": "code",
   "execution_count": 6,
   "metadata": {},
   "outputs": [],
   "source": [
    "all_features[numeric_features] = all_features[numeric_features].apply(lambda x: (x - x.mean())/ x.std())\n",
    "all_features[numeric_features] = all_features[numeric_features].fillna(0)"
   ]
  },
  {
   "cell_type": "markdown",
   "metadata": {},
   "source": [
    "把数据中的文本进行标签化, 设置 $dummy\\_na$ 设置为 $False$ 即不忽略 $nan$ 并且将其当作一类来处理"
   ]
  },
  {
   "cell_type": "code",
   "execution_count": 7,
   "metadata": {},
   "outputs": [
    {
     "data": {
      "text/plain": [
       "(2919, 331)"
      ]
     },
     "execution_count": 7,
     "metadata": {},
     "output_type": "execute_result"
    }
   ],
   "source": [
    "all_features = pd.get_dummies(all_features, dummy_na=True)\n",
    "all_features.shape"
   ]
  },
  {
   "cell_type": "markdown",
   "metadata": {},
   "source": [
    "将数据转换成 $tensor$"
   ]
  },
  {
   "cell_type": "code",
   "execution_count": 8,
   "metadata": {},
   "outputs": [],
   "source": [
    "num_train = train_data.shape[0]\n",
    "train_features = torch.tensor(all_features[:num_train].values, dtype=torch.float32)\n",
    "test_features = torch.tensor(all_features[num_train:].values, dtype=torch.float32)\n",
    "train_labels = torch.tensor(train_data.SalePrice.values.reshape(-1,1), dtype=torch.float32)"
   ]
  },
  {
   "cell_type": "markdown",
   "metadata": {},
   "source": [
    "### 训练"
   ]
  },
  {
   "cell_type": "code",
   "execution_count": 9,
   "metadata": {},
   "outputs": [],
   "source": [
    "loss = nn.MSELoss()\n",
    "in_features = train_features.shape[1]\n",
    "def get_net():\n",
    "    net = nn.Sequential(nn.Linear(in_features, 1))\n",
    "    return net"
   ]
  },
  {
   "cell_type": "markdown",
   "metadata": {},
   "source": [
    "在以前的训练过程中 :  $\\operatorname{Loss}=\\left\\| y - \\hat{y}\\right\\| ^ 2$ , 然而在房价当中, 我们更加关心的使相对数量, 而不是绝对数量, 即 $\\dfrac{y-\\hat{y}}{y}$ , 因此定义新的损失函数\n",
    "\n",
    "$$\n",
    "\\operatorname{Loss} = \\sqrt{\\dfrac{1}{n}\\sum_{i=1}^n(\\log y_i-\\log\\hat{y_i})^2}\n",
    "$$\n",
    "\n",
    "常数就不要了, 相除变为求 $\\log$\n",
    "\n",
    "`torch.clamp(net(features), 1, float('inf'))` 将 `net(features)` 里面的值限制到 $[1,inf]$之间, 小于 $1$ 的数值变成 $1$ , 是为了数据的稳定性"
   ]
  },
  {
   "cell_type": "code",
   "execution_count": 10,
   "metadata": {},
   "outputs": [],
   "source": [
    "def log_RMSE(net, features, labels):\n",
    "    clipped_preds = torch.clamp(net(features), 1, float('inf'))\n",
    "    rmse = torch.sqrt(loss(torch.log(clipped_preds),torch.log(labels)))\n",
    "    return rmse.item()"
   ]
  },
  {
   "cell_type": "markdown",
   "metadata": {},
   "source": [
    "训练函数"
   ]
  },
  {
   "cell_type": "code",
   "execution_count": 11,
   "metadata": {},
   "outputs": [],
   "source": [
    "def train(net, train_features, train_labels, test_features, test_labels, num_epochs, learning_rate, weight_decay, batch_size):\n",
    "    train_loss, test_loss = [], []\n",
    "    train_iter = d2l.load_array((train_features, train_labels), batch_size)\n",
    "    optimizer = torch.optim.Adam(net.parameters(), lr=learning_rate, weight_decay=weight_decay)\n",
    "    for epoch in range(num_epochs):\n",
    "        for X, y in train_iter:\n",
    "            optimizer.zero_grad()\n",
    "            l = loss(net(X), y)\n",
    "            l.backward()\n",
    "            optimizer.step()\n",
    "        train_loss.append(log_RMSE(net, train_features, train_labels))\n",
    "        if test_labels is not None:\n",
    "            test_loss.append(log_RMSE(net, test_features, test_labels))\n",
    "    return train_loss, test_loss"
   ]
  },
  {
   "cell_type": "markdown",
   "metadata": {},
   "source": [
    "### K 折交叉验证\n",
    "\n",
    "在 $K$ 折交叉验证中返回第 $i$ 折的数据, 选择第 $i$ 个切片作为验证数据, 其余部分作为训练数据\n",
    "\n",
    "`slice` 函数返回一个类似于 `iter` 的东西, 方便下标索引, `slice(l,r)` 返回 $[l, r)$ 的索引"
   ]
  },
  {
   "cell_type": "code",
   "execution_count": 12,
   "metadata": {},
   "outputs": [],
   "source": [
    "def get_k_fold_data(k, i, X, y):\n",
    "    fold_size = X.shape[0] // k\n",
    "    X_train, y_train = None, None\n",
    "    for j in range(k):\n",
    "        idx = slice(j*fold_size, (j+1)*fold_size)\n",
    "        X_part, y_part = X[idx, :], y[idx]\n",
    "        if j == i:\n",
    "            X_valid, y_valid = X_part, y_part\n",
    "        elif X_train is None:\n",
    "            X_train, y_train = X_part, y_part\n",
    "        else:\n",
    "            X_train = torch.cat([X_train, X_part], 0)\n",
    "            y_train = torch.cat([y_train, y_part], 0)\n",
    "    return X_train, y_train, X_valid, y_valid"
   ]
  },
  {
   "cell_type": "markdown",
   "metadata": {},
   "source": [
    "使用 $k$ 折交叉验证的目的是在数据少的情况下, 对超参数进行一个调整"
   ]
  },
  {
   "cell_type": "code",
   "execution_count": 13,
   "metadata": {},
   "outputs": [],
   "source": [
    "def k_fold(k, X_train, y_train, num_epochs, learning_rate, weight_decay, batch_size):\n",
    "    train_loss_sum, valid_loss_sum = 0, 0\n",
    "    for i in range(k):\n",
    "        data = get_k_fold_data(k, i, X_train, y_train)\n",
    "        net = get_net()\n",
    "        train_loss, valid_loss = train(net, *data, num_epochs, learning_rate, weight_decay, batch_size)\n",
    "        train_loss_sum += train_loss[-1]\n",
    "        valid_loss_sum += valid_loss[-1]\n",
    "        if i == 0:\n",
    "            d2l.plot(list(range(1, num_epochs+1)), [train_loss, valid_loss], xlabel='epoch', ylabel='RMSE', xlim=[1, num_epochs], legend=['train', 'valid'], yscale='log')\n",
    "        print(f'折 {i+1}, 训练 log RMSE {float(train_loss[-1]):f}, 验证 log RMSE {float(valid_loss[-1]):f}')\n",
    "    return train_loss_sum/k, valid_loss_sum/k"
   ]
  },
  {
   "cell_type": "code",
   "execution_count": 18,
   "metadata": {},
   "outputs": [
    {
     "name": "stdout",
     "output_type": "stream",
     "text": [
      "折 1, 训练 log RMSE 0.130276, 验证 log RMSE 0.153097\n",
      "折 2, 训练 log RMSE 0.123583, 验证 log RMSE 0.152625\n",
      "折 3, 训练 log RMSE 0.125167, 验证 log RMSE 0.152671\n",
      "折 4, 训练 log RMSE 0.130339, 验证 log RMSE 0.135094\n",
      "折 5, 训练 log RMSE 0.119400, 验证 log RMSE 0.159087\n",
      "5 折验证, 平均训练 log RMSE 0.125753, 平均验证 log RMSE 0.150515\n"
     ]
    },
    {
     "data": {
      "image/svg+xml": "<?xml version=\"1.0\" encoding=\"utf-8\" standalone=\"no\"?>\n<!DOCTYPE svg PUBLIC \"-//W3C//DTD SVG 1.1//EN\"\n  \"http://www.w3.org/Graphics/SVG/1.1/DTD/svg11.dtd\">\n<svg xmlns:xlink=\"http://www.w3.org/1999/xlink\" width=\"260.703125pt\" height=\"180.65625pt\" viewBox=\"0 0 260.703125 180.65625\" xmlns=\"http://www.w3.org/2000/svg\" version=\"1.1\">\n <metadata>\n  <rdf:RDF xmlns:dc=\"http://purl.org/dc/elements/1.1/\" xmlns:cc=\"http://creativecommons.org/ns#\" xmlns:rdf=\"http://www.w3.org/1999/02/22-rdf-syntax-ns#\">\n   <cc:Work>\n    <dc:type rdf:resource=\"http://purl.org/dc/dcmitype/StillImage\"/>\n    <dc:date>2022-07-05T16:05:19.116961</dc:date>\n    <dc:format>image/svg+xml</dc:format>\n    <dc:creator>\n     <cc:Agent>\n      <dc:title>Matplotlib v3.5.1, https://matplotlib.org/</dc:title>\n     </cc:Agent>\n    </dc:creator>\n   </cc:Work>\n  </rdf:RDF>\n </metadata>\n <defs>\n  <style type=\"text/css\">*{stroke-linejoin: round; stroke-linecap: butt}</style>\n </defs>\n <g id=\"figure_1\">\n  <g id=\"patch_1\">\n   <path d=\"M 0 180.65625 \nL 260.703125 180.65625 \nL 260.703125 0 \nL 0 0 \nL 0 180.65625 \nz\n\" style=\"fill: none\"/>\n  </g>\n  <g id=\"axes_1\">\n   <g id=\"patch_2\">\n    <path d=\"M 45.478125 143.1 \nL 240.778125 143.1 \nL 240.778125 7.2 \nL 45.478125 7.2 \nz\n\" style=\"fill: #ffffff\"/>\n   </g>\n   <g id=\"matplotlib.axis_1\">\n    <g id=\"xtick_1\">\n     <g id=\"line2d_1\">\n      <path d=\"M 84.381729 143.1 \nL 84.381729 7.2 \n\" clip-path=\"url(#pa76272cc00)\" style=\"fill: none; stroke: #b0b0b0; stroke-width: 0.8; stroke-linecap: square\"/>\n     </g>\n     <g id=\"line2d_2\">\n      <defs>\n       <path id=\"m6235e38bb8\" d=\"M 0 0 \nL 0 3.5 \n\" style=\"stroke: #000000; stroke-width: 0.8\"/>\n      </defs>\n      <g>\n       <use xlink:href=\"#m6235e38bb8\" x=\"84.381729\" y=\"143.1\" style=\"stroke: #000000; stroke-width: 0.8\"/>\n      </g>\n     </g>\n     <g id=\"text_1\">\n      <!-- 200 -->\n      <g transform=\"translate(74.837979 157.698438)scale(0.1 -0.1)\">\n       <defs>\n        <path id=\"DejaVuSans-32\" d=\"M 1228 531 \nL 3431 531 \nL 3431 0 \nL 469 0 \nL 469 531 \nQ 828 903 1448 1529 \nQ 2069 2156 2228 2338 \nQ 2531 2678 2651 2914 \nQ 2772 3150 2772 3378 \nQ 2772 3750 2511 3984 \nQ 2250 4219 1831 4219 \nQ 1534 4219 1204 4116 \nQ 875 4013 500 3803 \nL 500 4441 \nQ 881 4594 1212 4672 \nQ 1544 4750 1819 4750 \nQ 2544 4750 2975 4387 \nQ 3406 4025 3406 3419 \nQ 3406 3131 3298 2873 \nQ 3191 2616 2906 2266 \nQ 2828 2175 2409 1742 \nQ 1991 1309 1228 531 \nz\n\" transform=\"scale(0.015625)\"/>\n        <path id=\"DejaVuSans-30\" d=\"M 2034 4250 \nQ 1547 4250 1301 3770 \nQ 1056 3291 1056 2328 \nQ 1056 1369 1301 889 \nQ 1547 409 2034 409 \nQ 2525 409 2770 889 \nQ 3016 1369 3016 2328 \nQ 3016 3291 2770 3770 \nQ 2525 4250 2034 4250 \nz\nM 2034 4750 \nQ 2819 4750 3233 4129 \nQ 3647 3509 3647 2328 \nQ 3647 1150 3233 529 \nQ 2819 -91 2034 -91 \nQ 1250 -91 836 529 \nQ 422 1150 422 2328 \nQ 422 3509 836 4129 \nQ 1250 4750 2034 4750 \nz\n\" transform=\"scale(0.015625)\"/>\n       </defs>\n       <use xlink:href=\"#DejaVuSans-32\"/>\n       <use xlink:href=\"#DejaVuSans-30\" x=\"63.623047\"/>\n       <use xlink:href=\"#DejaVuSans-30\" x=\"127.246094\"/>\n      </g>\n     </g>\n    </g>\n    <g id=\"xtick_2\">\n     <g id=\"line2d_3\">\n      <path d=\"M 123.480828 143.1 \nL 123.480828 7.2 \n\" clip-path=\"url(#pa76272cc00)\" style=\"fill: none; stroke: #b0b0b0; stroke-width: 0.8; stroke-linecap: square\"/>\n     </g>\n     <g id=\"line2d_4\">\n      <g>\n       <use xlink:href=\"#m6235e38bb8\" x=\"123.480828\" y=\"143.1\" style=\"stroke: #000000; stroke-width: 0.8\"/>\n      </g>\n     </g>\n     <g id=\"text_2\">\n      <!-- 400 -->\n      <g transform=\"translate(113.937078 157.698438)scale(0.1 -0.1)\">\n       <defs>\n        <path id=\"DejaVuSans-34\" d=\"M 2419 4116 \nL 825 1625 \nL 2419 1625 \nL 2419 4116 \nz\nM 2253 4666 \nL 3047 4666 \nL 3047 1625 \nL 3713 1625 \nL 3713 1100 \nL 3047 1100 \nL 3047 0 \nL 2419 0 \nL 2419 1100 \nL 313 1100 \nL 313 1709 \nL 2253 4666 \nz\n\" transform=\"scale(0.015625)\"/>\n       </defs>\n       <use xlink:href=\"#DejaVuSans-34\"/>\n       <use xlink:href=\"#DejaVuSans-30\" x=\"63.623047\"/>\n       <use xlink:href=\"#DejaVuSans-30\" x=\"127.246094\"/>\n      </g>\n     </g>\n    </g>\n    <g id=\"xtick_3\">\n     <g id=\"line2d_5\">\n      <path d=\"M 162.579927 143.1 \nL 162.579927 7.2 \n\" clip-path=\"url(#pa76272cc00)\" style=\"fill: none; stroke: #b0b0b0; stroke-width: 0.8; stroke-linecap: square\"/>\n     </g>\n     <g id=\"line2d_6\">\n      <g>\n       <use xlink:href=\"#m6235e38bb8\" x=\"162.579927\" y=\"143.1\" style=\"stroke: #000000; stroke-width: 0.8\"/>\n      </g>\n     </g>\n     <g id=\"text_3\">\n      <!-- 600 -->\n      <g transform=\"translate(153.036177 157.698438)scale(0.1 -0.1)\">\n       <defs>\n        <path id=\"DejaVuSans-36\" d=\"M 2113 2584 \nQ 1688 2584 1439 2293 \nQ 1191 2003 1191 1497 \nQ 1191 994 1439 701 \nQ 1688 409 2113 409 \nQ 2538 409 2786 701 \nQ 3034 994 3034 1497 \nQ 3034 2003 2786 2293 \nQ 2538 2584 2113 2584 \nz\nM 3366 4563 \nL 3366 3988 \nQ 3128 4100 2886 4159 \nQ 2644 4219 2406 4219 \nQ 1781 4219 1451 3797 \nQ 1122 3375 1075 2522 \nQ 1259 2794 1537 2939 \nQ 1816 3084 2150 3084 \nQ 2853 3084 3261 2657 \nQ 3669 2231 3669 1497 \nQ 3669 778 3244 343 \nQ 2819 -91 2113 -91 \nQ 1303 -91 875 529 \nQ 447 1150 447 2328 \nQ 447 3434 972 4092 \nQ 1497 4750 2381 4750 \nQ 2619 4750 2861 4703 \nQ 3103 4656 3366 4563 \nz\n\" transform=\"scale(0.015625)\"/>\n       </defs>\n       <use xlink:href=\"#DejaVuSans-36\"/>\n       <use xlink:href=\"#DejaVuSans-30\" x=\"63.623047\"/>\n       <use xlink:href=\"#DejaVuSans-30\" x=\"127.246094\"/>\n      </g>\n     </g>\n    </g>\n    <g id=\"xtick_4\">\n     <g id=\"line2d_7\">\n      <path d=\"M 201.679026 143.1 \nL 201.679026 7.2 \n\" clip-path=\"url(#pa76272cc00)\" style=\"fill: none; stroke: #b0b0b0; stroke-width: 0.8; stroke-linecap: square\"/>\n     </g>\n     <g id=\"line2d_8\">\n      <g>\n       <use xlink:href=\"#m6235e38bb8\" x=\"201.679026\" y=\"143.1\" style=\"stroke: #000000; stroke-width: 0.8\"/>\n      </g>\n     </g>\n     <g id=\"text_4\">\n      <!-- 800 -->\n      <g transform=\"translate(192.135276 157.698438)scale(0.1 -0.1)\">\n       <defs>\n        <path id=\"DejaVuSans-38\" d=\"M 2034 2216 \nQ 1584 2216 1326 1975 \nQ 1069 1734 1069 1313 \nQ 1069 891 1326 650 \nQ 1584 409 2034 409 \nQ 2484 409 2743 651 \nQ 3003 894 3003 1313 \nQ 3003 1734 2745 1975 \nQ 2488 2216 2034 2216 \nz\nM 1403 2484 \nQ 997 2584 770 2862 \nQ 544 3141 544 3541 \nQ 544 4100 942 4425 \nQ 1341 4750 2034 4750 \nQ 2731 4750 3128 4425 \nQ 3525 4100 3525 3541 \nQ 3525 3141 3298 2862 \nQ 3072 2584 2669 2484 \nQ 3125 2378 3379 2068 \nQ 3634 1759 3634 1313 \nQ 3634 634 3220 271 \nQ 2806 -91 2034 -91 \nQ 1263 -91 848 271 \nQ 434 634 434 1313 \nQ 434 1759 690 2068 \nQ 947 2378 1403 2484 \nz\nM 1172 3481 \nQ 1172 3119 1398 2916 \nQ 1625 2713 2034 2713 \nQ 2441 2713 2670 2916 \nQ 2900 3119 2900 3481 \nQ 2900 3844 2670 4047 \nQ 2441 4250 2034 4250 \nQ 1625 4250 1398 4047 \nQ 1172 3844 1172 3481 \nz\n\" transform=\"scale(0.015625)\"/>\n       </defs>\n       <use xlink:href=\"#DejaVuSans-38\"/>\n       <use xlink:href=\"#DejaVuSans-30\" x=\"63.623047\"/>\n       <use xlink:href=\"#DejaVuSans-30\" x=\"127.246094\"/>\n      </g>\n     </g>\n    </g>\n    <g id=\"xtick_5\">\n     <g id=\"line2d_9\">\n      <path d=\"M 240.778125 143.1 \nL 240.778125 7.2 \n\" clip-path=\"url(#pa76272cc00)\" style=\"fill: none; stroke: #b0b0b0; stroke-width: 0.8; stroke-linecap: square\"/>\n     </g>\n     <g id=\"line2d_10\">\n      <g>\n       <use xlink:href=\"#m6235e38bb8\" x=\"240.778125\" y=\"143.1\" style=\"stroke: #000000; stroke-width: 0.8\"/>\n      </g>\n     </g>\n     <g id=\"text_5\">\n      <!-- 1000 -->\n      <g transform=\"translate(228.053125 157.698438)scale(0.1 -0.1)\">\n       <defs>\n        <path id=\"DejaVuSans-31\" d=\"M 794 531 \nL 1825 531 \nL 1825 4091 \nL 703 3866 \nL 703 4441 \nL 1819 4666 \nL 2450 4666 \nL 2450 531 \nL 3481 531 \nL 3481 0 \nL 794 0 \nL 794 531 \nz\n\" transform=\"scale(0.015625)\"/>\n       </defs>\n       <use xlink:href=\"#DejaVuSans-31\"/>\n       <use xlink:href=\"#DejaVuSans-30\" x=\"63.623047\"/>\n       <use xlink:href=\"#DejaVuSans-30\" x=\"127.246094\"/>\n       <use xlink:href=\"#DejaVuSans-30\" x=\"190.869141\"/>\n      </g>\n     </g>\n    </g>\n    <g id=\"text_6\">\n     <!-- epoch -->\n     <g transform=\"translate(127.9 171.376563)scale(0.1 -0.1)\">\n      <defs>\n       <path id=\"DejaVuSans-65\" d=\"M 3597 1894 \nL 3597 1613 \nL 953 1613 \nQ 991 1019 1311 708 \nQ 1631 397 2203 397 \nQ 2534 397 2845 478 \nQ 3156 559 3463 722 \nL 3463 178 \nQ 3153 47 2828 -22 \nQ 2503 -91 2169 -91 \nQ 1331 -91 842 396 \nQ 353 884 353 1716 \nQ 353 2575 817 3079 \nQ 1281 3584 2069 3584 \nQ 2775 3584 3186 3129 \nQ 3597 2675 3597 1894 \nz\nM 3022 2063 \nQ 3016 2534 2758 2815 \nQ 2500 3097 2075 3097 \nQ 1594 3097 1305 2825 \nQ 1016 2553 972 2059 \nL 3022 2063 \nz\n\" transform=\"scale(0.015625)\"/>\n       <path id=\"DejaVuSans-70\" d=\"M 1159 525 \nL 1159 -1331 \nL 581 -1331 \nL 581 3500 \nL 1159 3500 \nL 1159 2969 \nQ 1341 3281 1617 3432 \nQ 1894 3584 2278 3584 \nQ 2916 3584 3314 3078 \nQ 3713 2572 3713 1747 \nQ 3713 922 3314 415 \nQ 2916 -91 2278 -91 \nQ 1894 -91 1617 61 \nQ 1341 213 1159 525 \nz\nM 3116 1747 \nQ 3116 2381 2855 2742 \nQ 2594 3103 2138 3103 \nQ 1681 3103 1420 2742 \nQ 1159 2381 1159 1747 \nQ 1159 1113 1420 752 \nQ 1681 391 2138 391 \nQ 2594 391 2855 752 \nQ 3116 1113 3116 1747 \nz\n\" transform=\"scale(0.015625)\"/>\n       <path id=\"DejaVuSans-6f\" d=\"M 1959 3097 \nQ 1497 3097 1228 2736 \nQ 959 2375 959 1747 \nQ 959 1119 1226 758 \nQ 1494 397 1959 397 \nQ 2419 397 2687 759 \nQ 2956 1122 2956 1747 \nQ 2956 2369 2687 2733 \nQ 2419 3097 1959 3097 \nz\nM 1959 3584 \nQ 2709 3584 3137 3096 \nQ 3566 2609 3566 1747 \nQ 3566 888 3137 398 \nQ 2709 -91 1959 -91 \nQ 1206 -91 779 398 \nQ 353 888 353 1747 \nQ 353 2609 779 3096 \nQ 1206 3584 1959 3584 \nz\n\" transform=\"scale(0.015625)\"/>\n       <path id=\"DejaVuSans-63\" d=\"M 3122 3366 \nL 3122 2828 \nQ 2878 2963 2633 3030 \nQ 2388 3097 2138 3097 \nQ 1578 3097 1268 2742 \nQ 959 2388 959 1747 \nQ 959 1106 1268 751 \nQ 1578 397 2138 397 \nQ 2388 397 2633 464 \nQ 2878 531 3122 666 \nL 3122 134 \nQ 2881 22 2623 -34 \nQ 2366 -91 2075 -91 \nQ 1284 -91 818 406 \nQ 353 903 353 1747 \nQ 353 2603 823 3093 \nQ 1294 3584 2113 3584 \nQ 2378 3584 2631 3529 \nQ 2884 3475 3122 3366 \nz\n\" transform=\"scale(0.015625)\"/>\n       <path id=\"DejaVuSans-68\" d=\"M 3513 2113 \nL 3513 0 \nL 2938 0 \nL 2938 2094 \nQ 2938 2591 2744 2837 \nQ 2550 3084 2163 3084 \nQ 1697 3084 1428 2787 \nQ 1159 2491 1159 1978 \nL 1159 0 \nL 581 0 \nL 581 4863 \nL 1159 4863 \nL 1159 2956 \nQ 1366 3272 1645 3428 \nQ 1925 3584 2291 3584 \nQ 2894 3584 3203 3211 \nQ 3513 2838 3513 2113 \nz\n\" transform=\"scale(0.015625)\"/>\n      </defs>\n      <use xlink:href=\"#DejaVuSans-65\"/>\n      <use xlink:href=\"#DejaVuSans-70\" x=\"61.523438\"/>\n      <use xlink:href=\"#DejaVuSans-6f\" x=\"125\"/>\n      <use xlink:href=\"#DejaVuSans-63\" x=\"186.181641\"/>\n      <use xlink:href=\"#DejaVuSans-68\" x=\"241.162109\"/>\n     </g>\n    </g>\n   </g>\n   <g id=\"matplotlib.axis_2\">\n    <g id=\"ytick_1\">\n     <g id=\"line2d_11\">\n      <path d=\"M 45.478125 61.884106 \nL 240.778125 61.884106 \n\" clip-path=\"url(#pa76272cc00)\" style=\"fill: none; stroke: #b0b0b0; stroke-width: 0.8; stroke-linecap: square\"/>\n     </g>\n     <g id=\"line2d_12\">\n      <defs>\n       <path id=\"mc3af351765\" d=\"M 0 0 \nL -3.5 0 \n\" style=\"stroke: #000000; stroke-width: 0.8\"/>\n      </defs>\n      <g>\n       <use xlink:href=\"#mc3af351765\" x=\"45.478125\" y=\"61.884106\" style=\"stroke: #000000; stroke-width: 0.8\"/>\n      </g>\n     </g>\n     <g id=\"text_7\">\n      <!-- $\\mathdefault{10^{0}}$ -->\n      <g transform=\"translate(20.878125 65.683325)scale(0.1 -0.1)\">\n       <use xlink:href=\"#DejaVuSans-31\" transform=\"translate(0 0.765625)\"/>\n       <use xlink:href=\"#DejaVuSans-30\" transform=\"translate(63.623047 0.765625)\"/>\n       <use xlink:href=\"#DejaVuSans-30\" transform=\"translate(128.203125 39.046875)scale(0.7)\"/>\n      </g>\n     </g>\n    </g>\n    <g id=\"ytick_2\">\n     <g id=\"line2d_13\">\n      <defs>\n       <path id=\"m27cfa4db6b\" d=\"M 0 0 \nL -2 0 \n\" style=\"stroke: #000000; stroke-width: 0.6\"/>\n      </defs>\n      <g>\n       <use xlink:href=\"#m27cfa4db6b\" x=\"45.478125\" y=\"120.897869\" style=\"stroke: #000000; stroke-width: 0.6\"/>\n      </g>\n     </g>\n    </g>\n    <g id=\"ytick_3\">\n     <g id=\"line2d_14\">\n      <g>\n       <use xlink:href=\"#m27cfa4db6b\" x=\"45.478125\" y=\"106.030553\" style=\"stroke: #000000; stroke-width: 0.6\"/>\n      </g>\n     </g>\n    </g>\n    <g id=\"ytick_4\">\n     <g id=\"line2d_15\">\n      <g>\n       <use xlink:href=\"#m27cfa4db6b\" x=\"45.478125\" y=\"95.482025\" style=\"stroke: #000000; stroke-width: 0.6\"/>\n      </g>\n     </g>\n    </g>\n    <g id=\"ytick_5\">\n     <g id=\"line2d_16\">\n      <g>\n       <use xlink:href=\"#m27cfa4db6b\" x=\"45.478125\" y=\"87.29995\" style=\"stroke: #000000; stroke-width: 0.6\"/>\n      </g>\n     </g>\n    </g>\n    <g id=\"ytick_6\">\n     <g id=\"line2d_17\">\n      <g>\n       <use xlink:href=\"#m27cfa4db6b\" x=\"45.478125\" y=\"80.614709\" style=\"stroke: #000000; stroke-width: 0.6\"/>\n      </g>\n     </g>\n    </g>\n    <g id=\"ytick_7\">\n     <g id=\"line2d_18\">\n      <g>\n       <use xlink:href=\"#m27cfa4db6b\" x=\"45.478125\" y=\"74.962418\" style=\"stroke: #000000; stroke-width: 0.6\"/>\n      </g>\n     </g>\n    </g>\n    <g id=\"ytick_8\">\n     <g id=\"line2d_19\">\n      <g>\n       <use xlink:href=\"#m27cfa4db6b\" x=\"45.478125\" y=\"70.06618\" style=\"stroke: #000000; stroke-width: 0.6\"/>\n      </g>\n     </g>\n    </g>\n    <g id=\"ytick_9\">\n     <g id=\"line2d_20\">\n      <g>\n       <use xlink:href=\"#m27cfa4db6b\" x=\"45.478125\" y=\"65.747393\" style=\"stroke: #000000; stroke-width: 0.6\"/>\n      </g>\n     </g>\n    </g>\n    <g id=\"ytick_10\">\n     <g id=\"line2d_21\">\n      <g>\n       <use xlink:href=\"#m27cfa4db6b\" x=\"45.478125\" y=\"36.468261\" style=\"stroke: #000000; stroke-width: 0.6\"/>\n      </g>\n     </g>\n    </g>\n    <g id=\"ytick_11\">\n     <g id=\"line2d_22\">\n      <g>\n       <use xlink:href=\"#m27cfa4db6b\" x=\"45.478125\" y=\"21.600946\" style=\"stroke: #000000; stroke-width: 0.6\"/>\n      </g>\n     </g>\n    </g>\n    <g id=\"ytick_12\">\n     <g id=\"line2d_23\">\n      <g>\n       <use xlink:href=\"#m27cfa4db6b\" x=\"45.478125\" y=\"11.052417\" style=\"stroke: #000000; stroke-width: 0.6\"/>\n      </g>\n     </g>\n    </g>\n    <g id=\"text_8\">\n     <!-- RMSE -->\n     <g transform=\"translate(14.798437 89.271875)rotate(-90)scale(0.1 -0.1)\">\n      <defs>\n       <path id=\"DejaVuSans-52\" d=\"M 2841 2188 \nQ 3044 2119 3236 1894 \nQ 3428 1669 3622 1275 \nL 4263 0 \nL 3584 0 \nL 2988 1197 \nQ 2756 1666 2539 1819 \nQ 2322 1972 1947 1972 \nL 1259 1972 \nL 1259 0 \nL 628 0 \nL 628 4666 \nL 2053 4666 \nQ 2853 4666 3247 4331 \nQ 3641 3997 3641 3322 \nQ 3641 2881 3436 2590 \nQ 3231 2300 2841 2188 \nz\nM 1259 4147 \nL 1259 2491 \nL 2053 2491 \nQ 2509 2491 2742 2702 \nQ 2975 2913 2975 3322 \nQ 2975 3731 2742 3939 \nQ 2509 4147 2053 4147 \nL 1259 4147 \nz\n\" transform=\"scale(0.015625)\"/>\n       <path id=\"DejaVuSans-4d\" d=\"M 628 4666 \nL 1569 4666 \nL 2759 1491 \nL 3956 4666 \nL 4897 4666 \nL 4897 0 \nL 4281 0 \nL 4281 4097 \nL 3078 897 \nL 2444 897 \nL 1241 4097 \nL 1241 0 \nL 628 0 \nL 628 4666 \nz\n\" transform=\"scale(0.015625)\"/>\n       <path id=\"DejaVuSans-53\" d=\"M 3425 4513 \nL 3425 3897 \nQ 3066 4069 2747 4153 \nQ 2428 4238 2131 4238 \nQ 1616 4238 1336 4038 \nQ 1056 3838 1056 3469 \nQ 1056 3159 1242 3001 \nQ 1428 2844 1947 2747 \nL 2328 2669 \nQ 3034 2534 3370 2195 \nQ 3706 1856 3706 1288 \nQ 3706 609 3251 259 \nQ 2797 -91 1919 -91 \nQ 1588 -91 1214 -16 \nQ 841 59 441 206 \nL 441 856 \nQ 825 641 1194 531 \nQ 1563 422 1919 422 \nQ 2459 422 2753 634 \nQ 3047 847 3047 1241 \nQ 3047 1584 2836 1778 \nQ 2625 1972 2144 2069 \nL 1759 2144 \nQ 1053 2284 737 2584 \nQ 422 2884 422 3419 \nQ 422 4038 858 4394 \nQ 1294 4750 2059 4750 \nQ 2388 4750 2728 4690 \nQ 3069 4631 3425 4513 \nz\n\" transform=\"scale(0.015625)\"/>\n       <path id=\"DejaVuSans-45\" d=\"M 628 4666 \nL 3578 4666 \nL 3578 4134 \nL 1259 4134 \nL 1259 2753 \nL 3481 2753 \nL 3481 2222 \nL 1259 2222 \nL 1259 531 \nL 3634 531 \nL 3634 0 \nL 628 0 \nL 628 4666 \nz\n\" transform=\"scale(0.015625)\"/>\n      </defs>\n      <use xlink:href=\"#DejaVuSans-52\"/>\n      <use xlink:href=\"#DejaVuSans-4d\" x=\"69.482422\"/>\n      <use xlink:href=\"#DejaVuSans-53\" x=\"155.761719\"/>\n      <use xlink:href=\"#DejaVuSans-45\" x=\"219.238281\"/>\n     </g>\n    </g>\n   </g>\n   <g id=\"line2d_24\">\n    <path d=\"M 45.478125 13.509554 \nL 45.869116 26.121766 \nL 46.455602 36.853844 \nL 47.237584 47.112908 \nL 48.410557 59.327665 \nL 50.170017 74.913595 \nL 52.515963 93.432997 \nL 54.079927 104.314424 \nL 55.448395 112.355925 \nL 56.621368 117.778197 \nL 57.40335 120.51416 \nL 58.185332 122.541155 \nL 58.967314 124.052322 \nL 59.749296 125.070487 \nL 60.531278 125.728453 \nL 61.508756 126.209007 \nL 62.486233 126.412899 \nL 63.463711 126.435099 \nL 64.050197 126.438152 \nL 66.200648 126.33171 \nL 69.328575 126.752251 \nL 69.719566 126.920285 \nL 69.915062 126.874287 \nL 70.306053 127.090591 \nL 70.501548 127.013643 \nL 71.28353 127.321124 \nL 74.020467 128.541856 \nL 74.215963 128.471471 \nL 75.584431 129.198589 \nL 77.539386 130.016591 \nL 78.321368 130.337418 \nL 78.516864 130.634069 \nL 80.86281 131.332615 \nL 81.253801 131.504819 \nL 81.840287 131.688994 \nL 82.426774 131.723225 \nL 82.817765 132.036787 \nL 83.599747 132.248311 \nL 83.990738 132.2497 \nL 88.487134 133.17683 \nL 89.269116 133.371667 \nL 89.660107 133.37432 \nL 90.051098 133.497081 \nL 91.028575 133.694972 \nL 91.224071 133.692094 \nL 91.615062 133.923348 \nL 92.592539 134.015002 \nL 94.938485 134.289517 \nL 95.329476 134.237505 \nL 98.457404 134.693054 \nL 99.043891 134.751504 \nL 100.412359 135.021144 \nL 100.80335 134.973233 \nL 100.998846 135.050916 \nL 101.389837 135.025971 \nL 102.56281 135.148276 \nL 102.953801 135.193177 \nL 103.149296 135.384213 \nL 106.668215 135.669111 \nL 107.059206 135.603901 \nL 108.036684 135.594669 \nL 108.232179 135.783038 \nL 112.337584 135.908475 \nL 113.119566 135.912927 \nL 113.706053 136.003053 \nL 114.488035 136.13834 \nL 116.051999 136.123622 \nL 117.029476 136.204674 \nL 117.224972 136.147768 \nL 117.811458 136.261051 \nL 120.3529 136.310401 \nL 120.939386 136.24919 \nL 122.307855 136.34951 \nL 130.909657 136.550347 \nL 131.300648 136.508471 \nL 132.08263 136.585707 \nL 132.47362 136.651584 \nL 132.864611 136.650035 \nL 133.255602 136.693052 \nL 134.428575 136.686992 \nL 135.210557 136.658591 \nL 135.406053 136.515497 \nL 135.797044 136.575135 \nL 136.970017 136.627847 \nL 137.947494 136.674711 \nL 139.511458 136.753468 \nL 139.902449 136.651038 \nL 147.917765 136.697856 \nL 148.504251 136.740016 \nL 149.090738 136.742305 \nL 149.87272 136.854597 \nL 150.068215 136.922727 \nL 150.850197 136.757547 \nL 151.241188 136.801255 \nL 151.632179 136.744527 \nL 153.196143 136.672148 \nL 153.587134 136.733944 \nL 154.17362 136.668733 \nL 155.737584 136.683928 \nL 156.715062 136.634669 \nL 157.301548 136.728756 \nL 158.08353 136.700349 \nL 159.451999 136.648616 \nL 159.647494 136.704851 \nL 160.038485 136.641388 \nL 161.015963 136.622011 \nL 161.406954 136.671216 \nL 161.99344 136.745786 \nL 162.384431 136.680537 \nL 163.948395 136.675673 \nL 164.339386 136.655753 \nL 164.925873 136.707988 \nL 165.512359 136.78811 \nL 165.90335 136.699348 \nL 166.489837 136.728705 \nL 168.249296 136.632336 \nL 169.031278 136.651059 \nL 169.422269 136.631426 \nL 170.008756 136.694245 \nL 173.72317 136.746863 \nL 174.700648 136.68871 \nL 175.48263 136.844256 \nL 177.828575 136.776764 \nL 178.024071 136.836015 \nL 178.415062 136.737785 \nL 178.610557 136.788001 \nL 179.001548 136.719914 \nL 179.979026 136.641438 \nL 180.174521 136.764487 \nL 181.151999 136.737146 \nL 181.54299 136.808515 \nL 182.129476 136.744355 \nL 187.407855 136.771191 \nL 187.798846 136.764133 \nL 188.189837 136.782224 \nL 190.340287 136.740786 \nL 190.731278 136.782274 \nL 191.122269 136.705288 \nL 191.51326 136.736931 \nL 191.708756 136.65629 \nL 191.904251 136.744582 \nL 192.490738 136.673858 \nL 192.881729 136.671379 \nL 193.27272 136.848312 \nL 193.663711 136.798591 \nL 194.445693 136.672165 \nL 195.032179 136.761404 \nL 195.42317 136.686828 \nL 196.205152 136.746404 \nL 196.596143 136.700748 \nL 197.378125 136.623945 \nL 197.769116 136.685096 \nL 199.528575 136.6933 \nL 200.701548 136.709627 \nL 202.265512 136.623501 \nL 202.656503 136.661833 \nL 203.24299 136.682949 \nL 203.633981 136.652113 \nL 203.829476 136.59961 \nL 204.220467 136.737234 \nL 205.002449 136.660796 \nL 205.39344 136.763594 \nL 205.979927 136.838572 \nL 206.566413 136.765687 \nL 207.543891 136.665852 \nL 207.934882 136.590723 \nL 208.716864 136.605546 \nL 209.30335 136.624025 \nL 209.889837 136.605492 \nL 210.085332 136.518835 \nL 210.476323 136.611316 \nL 211.06281 136.62611 \nL 211.258305 136.5973 \nL 211.453801 136.689492 \nL 211.844792 136.564035 \nL 212.822269 136.753704 \nL 213.408756 136.641044 \nL 217.318666 136.537107 \nL 218.100648 136.527403 \nL 218.687134 136.577084 \nL 220.642089 136.611153 \nL 221.03308 136.623127 \nL 221.424071 136.617725 \nL 221.815062 136.606024 \nL 222.401548 136.586721 \nL 224.551999 136.652482 \nL 225.138485 136.643646 \nL 225.529476 136.604041 \nL 226.311458 136.689282 \nL 227.875422 136.646274 \nL 229.830377 136.60971 \nL 230.025873 136.789442 \nL 230.612359 136.761316 \nL 231.198846 136.689395 \nL 233.935783 136.589642 \nL 234.326774 136.610289 \nL 234.91326 136.675353 \nL 235.890738 136.675299 \nL 236.477224 136.672266 \nL 237.259206 136.601786 \nL 237.454702 136.709228 \nL 238.627675 136.606603 \nL 239.214161 136.673547 \nL 239.800648 136.573761 \nL 240.778125 136.615678 \nL 240.778125 136.615678 \n\" clip-path=\"url(#pa76272cc00)\" style=\"fill: none; stroke: #1f77b4; stroke-width: 1.5; stroke-linecap: square\"/>\n   </g>\n   <g id=\"line2d_25\">\n    <path d=\"M 45.478125 13.377273 \nL 45.869116 25.923007 \nL 46.455602 36.606058 \nL 47.237584 46.805669 \nL 48.410557 58.944724 \nL 50.170017 74.449211 \nL 52.711458 94.500944 \nL 54.666413 108.025943 \nL 55.839386 114.89994 \nL 56.816864 119.703625 \nL 57.598846 122.697577 \nL 58.380828 125.000978 \nL 59.16281 126.740748 \nL 59.944792 127.925192 \nL 60.726774 128.688044 \nL 61.704251 129.264276 \nL 62.486233 129.501694 \nL 63.268215 129.562338 \nL 65.027675 129.635323 \nL 67.960107 129.614107 \nL 68.351098 129.650581 \nL 69.13308 129.590155 \nL 69.719566 129.712459 \nL 70.110557 129.726049 \nL 70.501548 129.694032 \nL 71.28353 129.776651 \nL 76.366413 130.834451 \nL 76.561909 130.929777 \nL 76.9529 130.942364 \nL 77.539386 131.116502 \nL 78.321368 131.33284 \nL 78.516864 131.607295 \nL 79.494341 131.680082 \nL 79.689837 131.637813 \nL 80.667314 131.896904 \nL 80.86281 131.879695 \nL 81.253801 131.984405 \nL 81.644792 132.084411 \nL 82.231278 132.074434 \nL 82.426774 132.063097 \nL 82.817765 132.356168 \nL 83.404251 132.447779 \nL 85.359206 132.464901 \nL 85.750197 132.562082 \nL 86.141188 132.512762 \nL 86.727675 132.644449 \nL 87.118666 132.603149 \nL 87.900648 132.696728 \nL 88.291639 132.715566 \nL 91.224071 132.955642 \nL 91.615062 133.172057 \nL 95.133981 133.088989 \nL 95.524972 132.983972 \nL 96.697945 133.164536 \nL 97.479927 133.373038 \nL 98.848395 133.174924 \nL 99.825873 133.131256 \nL 100.412359 133.391696 \nL 100.80335 133.28391 \nL 101.389837 133.333693 \nL 101.976323 133.280571 \nL 102.171819 133.292716 \nL 102.367314 133.166681 \nL 102.758305 133.252382 \nL 102.953801 133.229545 \nL 103.149296 133.554414 \nL 103.931278 133.574686 \nL 104.126774 133.415511 \nL 106.47272 133.423379 \nL 106.668215 133.499592 \nL 106.863711 133.392273 \nL 107.254702 133.498745 \nL 107.645693 133.323474 \nL 107.841188 133.367621 \nL 108.036684 133.27683 \nL 108.232179 133.472293 \nL 109.209657 133.519626 \nL 109.796143 133.399875 \nL 109.991639 133.442833 \nL 110.187134 133.325238 \nL 110.969116 133.305632 \nL 111.360107 133.238954 \nL 111.555602 133.437902 \nL 113.119566 133.208263 \nL 113.315062 133.424221 \nL 113.510557 133.212203 \nL 114.68353 133.470276 \nL 115.074521 133.27093 \nL 115.270017 133.457368 \nL 116.638485 133.315926 \nL 117.029476 133.404236 \nL 117.224972 133.309828 \nL 117.420467 133.46349 \nL 121.721368 133.275585 \nL 121.916864 133.426855 \nL 122.50335 133.345733 \nL 122.698846 133.447345 \nL 122.894341 133.391251 \nL 123.089837 133.462409 \nL 123.285332 133.338702 \nL 123.871819 133.367371 \nL 124.653801 133.319441 \nL 125.044792 133.443102 \nL 125.435783 133.549842 \nL 125.631278 133.37748 \nL 125.826774 133.482938 \nL 126.217765 133.257854 \nL 126.608756 133.430369 \nL 126.804251 133.266562 \nL 127.195242 133.392614 \nL 128.954702 133.261972 \nL 129.541188 133.089168 \nL 129.736684 133.192432 \nL 129.932179 133.153525 \nL 130.127675 133.292674 \nL 130.518666 133.170148 \nL 130.714161 133.315535 \nL 131.300648 133.116351 \nL 131.691639 133.150628 \nL 131.887134 133.341379 \nL 132.08263 133.262401 \nL 132.47362 133.315845 \nL 132.864611 133.246501 \nL 133.060107 133.447788 \nL 134.23308 133.192657 \nL 134.624071 133.383516 \nL 134.819566 133.279705 \nL 135.210557 133.243418 \nL 135.797044 133.059607 \nL 136.188035 133.117182 \nL 136.774521 133.368009 \nL 137.361008 133.075974 \nL 138.14299 133.283596 \nL 138.338485 133.0566 \nL 138.533981 133.224234 \nL 139.315963 133.177143 \nL 139.511458 133.388889 \nL 139.902449 133.124689 \nL 141.270918 133.076359 \nL 141.857404 133.161303 \nL 142.248395 133.193754 \nL 142.639386 132.962 \nL 142.834882 133.047683 \nL 143.225873 132.825985 \nL 143.421368 132.954549 \nL 144.007855 132.677165 \nL 144.398846 133.010963 \nL 144.594341 133.022814 \nL 144.789837 132.776195 \nL 144.985332 132.810696 \nL 145.180828 132.593496 \nL 145.767314 132.718685 \nL 145.96281 132.645488 \nL 146.158305 132.823439 \nL 146.549296 132.635835 \nL 146.940287 132.844693 \nL 147.135783 132.610574 \nL 147.526774 132.834454 \nL 147.917765 132.676679 \nL 148.895242 132.873865 \nL 149.481729 132.839403 \nL 150.068215 133.124674 \nL 150.459206 132.948161 \nL 151.045693 132.73498 \nL 151.241188 132.755631 \nL 151.436684 132.909895 \nL 151.827675 132.688309 \nL 152.02317 132.805453 \nL 152.609657 132.448838 \nL 153.000648 132.643045 \nL 153.391639 132.7108 \nL 153.587134 132.821443 \nL 153.78263 132.652835 \nL 153.978125 132.808114 \nL 154.17362 132.591669 \nL 154.760107 132.865875 \nL 155.151098 132.608348 \nL 156.128575 132.495358 \nL 156.324071 132.435847 \nL 156.519566 132.618313 \nL 156.715062 132.579946 \nL 157.106053 132.886452 \nL 157.301548 132.723079 \nL 158.08353 132.657579 \nL 158.279026 132.527578 \nL 158.865512 132.761754 \nL 160.233981 132.435562 \nL 160.624972 132.496742 \nL 161.211458 132.318119 \nL 161.406954 132.335946 \nL 161.797945 132.596401 \nL 161.99344 132.631595 \nL 162.188936 132.416216 \nL 163.166413 132.339141 \nL 163.361909 132.451833 \nL 163.7529 132.245642 \nL 164.143891 132.435708 \nL 164.534882 132.377406 \nL 164.925873 132.269029 \nL 165.316864 132.584601 \nL 166.098846 132.327599 \nL 166.294341 132.416504 \nL 166.880828 132.307385 \nL 167.076323 132.361927 \nL 167.271819 132.138239 \nL 167.467314 132.092395 \nL 167.66281 132.26784 \nL 167.858305 132.109234 \nL 168.835783 132.366001 \nL 169.422269 132.148281 \nL 169.617765 132.260603 \nL 170.399747 132.246163 \nL 170.790738 132.4665 \nL 170.986233 132.527672 \nL 171.377224 132.330946 \nL 172.159206 132.211222 \nL 172.550197 132.280564 \nL 172.745693 132.104346 \nL 172.941188 132.301027 \nL 173.72317 132.286016 \nL 173.918666 132.202575 \nL 174.309657 132.255155 \nL 174.700648 132.111033 \nL 175.091639 132.133314 \nL 175.287134 132.41622 \nL 175.678125 132.276104 \nL 175.87362 132.366704 \nL 176.655602 132.142363 \nL 177.046593 132.20886 \nL 177.437584 132.02477 \nL 177.63308 132.179428 \nL 177.828575 132.171792 \nL 178.024071 132.334745 \nL 178.219566 132.07794 \nL 178.415062 132.006361 \nL 178.610557 132.20532 \nL 178.806053 132.079426 \nL 179.001548 132.141636 \nL 179.197044 132.004678 \nL 179.588035 132.034277 \nL 179.78353 132.084411 \nL 179.979026 131.794801 \nL 180.174521 132.162122 \nL 180.565512 131.983673 \nL 180.761008 132.108626 \nL 181.151999 131.979855 \nL 182.129476 131.992952 \nL 182.520467 131.961217 \nL 182.715963 131.858934 \nL 183.106954 132.010566 \nL 183.497945 131.87033 \nL 183.69344 131.794793 \nL 184.084431 132.11551 \nL 184.475422 131.979086 \nL 184.670918 131.993033 \nL 185.061909 131.895802 \nL 185.648395 132.014617 \nL 185.843891 132.114156 \nL 186.039386 132.026224 \nL 186.430377 132.173534 \nL 186.625873 131.934209 \nL 187.212359 132.171327 \nL 187.60335 131.904952 \nL 188.189837 131.99865 \nL 189.36281 131.757575 \nL 189.949296 131.779859 \nL 190.144792 131.580425 \nL 190.731278 131.891886 \nL 191.122269 131.590985 \nL 191.51326 131.735632 \nL 191.708756 131.527241 \nL 191.904251 131.80387 \nL 192.295242 131.51397 \nL 192.490738 131.661376 \nL 192.881729 131.65392 \nL 193.077224 131.714561 \nL 193.27272 131.942737 \nL 193.468215 131.755489 \nL 193.663711 131.871063 \nL 194.054702 131.638772 \nL 194.250197 131.723595 \nL 194.445693 131.460773 \nL 195.032179 131.733701 \nL 195.227675 131.484732 \nL 195.42317 131.546678 \nL 195.618666 131.483394 \nL 196.400648 131.850065 \nL 196.791639 131.521371 \nL 197.18263 131.479314 \nL 197.378125 131.379067 \nL 197.769116 131.62985 \nL 197.964611 131.615912 \nL 198.160107 131.453897 \nL 199.724071 131.518502 \nL 199.919566 131.654528 \nL 201.288035 131.614196 \nL 201.48353 131.692053 \nL 201.874521 131.430405 \nL 202.070017 131.462263 \nL 202.265512 131.353886 \nL 202.461008 131.429535 \nL 203.047494 131.33337 \nL 203.438485 131.523547 \nL 203.633981 131.454294 \nL 203.829476 131.25759 \nL 204.220467 131.629586 \nL 204.415963 131.522769 \nL 204.806954 131.481549 \nL 205.002449 131.365769 \nL 205.39344 131.533521 \nL 205.588936 131.643375 \nL 205.784431 131.592813 \nL 205.979927 131.787998 \nL 206.370918 131.578692 \nL 206.957404 131.498828 \nL 207.1529 131.6036 \nL 208.130377 131.219012 \nL 208.521368 131.427722 \nL 208.912359 131.141805 \nL 209.694341 131.316499 \nL 209.889837 131.255122 \nL 210.085332 130.99788 \nL 210.476323 131.296752 \nL 210.867314 131.527168 \nL 211.258305 131.29566 \nL 211.453801 131.615795 \nL 211.649296 131.272472 \nL 211.844792 131.237465 \nL 212.235783 131.412758 \nL 212.431278 131.42521 \nL 212.822269 131.753906 \nL 213.408756 131.321189 \nL 214.386233 131.402962 \nL 214.581729 131.374061 \nL 214.777224 131.465685 \nL 214.97272 131.259605 \nL 215.363711 131.412147 \nL 215.754702 131.12586 \nL 216.145693 131.372221 \nL 216.536684 131.181622 \nL 216.927675 131.309654 \nL 217.12317 131.118285 \nL 217.709657 131.06727 \nL 217.905152 130.921367 \nL 218.100648 130.948304 \nL 218.296143 131.090703 \nL 218.687134 131.077665 \nL 218.88263 131.181567 \nL 219.078125 131.093207 \nL 219.27362 130.870811 \nL 219.664611 131.090501 \nL 219.860107 130.994131 \nL 220.251098 131.018749 \nL 220.446593 130.923521 \nL 220.642089 130.9987 \nL 220.837584 131.202375 \nL 221.228575 130.951599 \nL 221.619566 131.125113 \nL 222.010557 130.885039 \nL 222.792539 130.960103 \nL 222.988035 130.709838 \nL 223.18353 130.853943 \nL 223.574521 130.89343 \nL 223.770017 130.699764 \nL 224.161008 130.835887 \nL 224.356503 131.02972 \nL 224.551999 130.921751 \nL 224.94299 131.099535 \nL 225.138485 131.109701 \nL 225.529476 130.865841 \nL 225.920467 131.052726 \nL 226.115963 130.962145 \nL 226.311458 131.132338 \nL 226.506954 131.141856 \nL 226.897945 130.966581 \nL 227.09344 131.045498 \nL 227.484431 130.662764 \nL 227.875422 130.975045 \nL 228.657404 130.967778 \nL 228.8529 131.121343 \nL 229.243891 130.925195 \nL 229.634882 130.953062 \nL 229.830377 130.679815 \nL 230.025873 131.024744 \nL 230.416864 131.27091 \nL 231.00335 130.773441 \nL 231.980828 131.099117 \nL 232.176323 130.786769 \nL 232.371819 130.808395 \nL 232.76281 131.116379 \nL 232.958305 130.685516 \nL 233.544792 130.894873 \nL 233.935783 130.694896 \nL 234.131278 130.586967 \nL 234.522269 130.882377 \nL 234.91326 130.866372 \nL 235.304251 130.868925 \nL 235.499747 130.780005 \nL 236.086233 130.868236 \nL 236.67272 130.706354 \nL 236.868215 130.903073 \nL 237.259206 130.724593 \nL 237.454702 130.955581 \nL 237.845693 130.709617 \nL 238.041188 130.835475 \nL 239.018666 130.74 \nL 239.800648 130.589611 \nL 239.996143 130.558353 \nL 240.191639 130.738932 \nL 240.58263 130.620073 \nL 240.778125 130.697138 \nL 240.778125 130.697138 \n\" clip-path=\"url(#pa76272cc00)\" style=\"fill: none; stroke-dasharray: 5.55,2.4; stroke-dashoffset: 0; stroke: #bf00bf; stroke-width: 1.5\"/>\n   </g>\n   <g id=\"patch_3\">\n    <path d=\"M 45.478125 143.1 \nL 45.478125 7.2 \n\" style=\"fill: none; stroke: #000000; stroke-width: 0.8; stroke-linejoin: miter; stroke-linecap: square\"/>\n   </g>\n   <g id=\"patch_4\">\n    <path d=\"M 240.778125 143.1 \nL 240.778125 7.2 \n\" style=\"fill: none; stroke: #000000; stroke-width: 0.8; stroke-linejoin: miter; stroke-linecap: square\"/>\n   </g>\n   <g id=\"patch_5\">\n    <path d=\"M 45.478125 143.1 \nL 240.778125 143.1 \n\" style=\"fill: none; stroke: #000000; stroke-width: 0.8; stroke-linejoin: miter; stroke-linecap: square\"/>\n   </g>\n   <g id=\"patch_6\">\n    <path d=\"M 45.478125 7.2 \nL 240.778125 7.2 \n\" style=\"fill: none; stroke: #000000; stroke-width: 0.8; stroke-linejoin: miter; stroke-linecap: square\"/>\n   </g>\n   <g id=\"legend_1\">\n    <g id=\"patch_7\">\n     <path d=\"M 177.826562 44.55625 \nL 233.778125 44.55625 \nQ 235.778125 44.55625 235.778125 42.55625 \nL 235.778125 14.2 \nQ 235.778125 12.2 233.778125 12.2 \nL 177.826562 12.2 \nQ 175.826562 12.2 175.826562 14.2 \nL 175.826562 42.55625 \nQ 175.826562 44.55625 177.826562 44.55625 \nz\n\" style=\"fill: #ffffff; opacity: 0.8; stroke: #cccccc; stroke-linejoin: miter\"/>\n    </g>\n    <g id=\"line2d_26\">\n     <path d=\"M 179.826562 20.298437 \nL 189.826562 20.298437 \nL 199.826562 20.298437 \n\" style=\"fill: none; stroke: #1f77b4; stroke-width: 1.5; stroke-linecap: square\"/>\n    </g>\n    <g id=\"text_9\">\n     <!-- train -->\n     <g transform=\"translate(207.826562 23.798437)scale(0.1 -0.1)\">\n      <defs>\n       <path id=\"DejaVuSans-74\" d=\"M 1172 4494 \nL 1172 3500 \nL 2356 3500 \nL 2356 3053 \nL 1172 3053 \nL 1172 1153 \nQ 1172 725 1289 603 \nQ 1406 481 1766 481 \nL 2356 481 \nL 2356 0 \nL 1766 0 \nQ 1100 0 847 248 \nQ 594 497 594 1153 \nL 594 3053 \nL 172 3053 \nL 172 3500 \nL 594 3500 \nL 594 4494 \nL 1172 4494 \nz\n\" transform=\"scale(0.015625)\"/>\n       <path id=\"DejaVuSans-72\" d=\"M 2631 2963 \nQ 2534 3019 2420 3045 \nQ 2306 3072 2169 3072 \nQ 1681 3072 1420 2755 \nQ 1159 2438 1159 1844 \nL 1159 0 \nL 581 0 \nL 581 3500 \nL 1159 3500 \nL 1159 2956 \nQ 1341 3275 1631 3429 \nQ 1922 3584 2338 3584 \nQ 2397 3584 2469 3576 \nQ 2541 3569 2628 3553 \nL 2631 2963 \nz\n\" transform=\"scale(0.015625)\"/>\n       <path id=\"DejaVuSans-61\" d=\"M 2194 1759 \nQ 1497 1759 1228 1600 \nQ 959 1441 959 1056 \nQ 959 750 1161 570 \nQ 1363 391 1709 391 \nQ 2188 391 2477 730 \nQ 2766 1069 2766 1631 \nL 2766 1759 \nL 2194 1759 \nz\nM 3341 1997 \nL 3341 0 \nL 2766 0 \nL 2766 531 \nQ 2569 213 2275 61 \nQ 1981 -91 1556 -91 \nQ 1019 -91 701 211 \nQ 384 513 384 1019 \nQ 384 1609 779 1909 \nQ 1175 2209 1959 2209 \nL 2766 2209 \nL 2766 2266 \nQ 2766 2663 2505 2880 \nQ 2244 3097 1772 3097 \nQ 1472 3097 1187 3025 \nQ 903 2953 641 2809 \nL 641 3341 \nQ 956 3463 1253 3523 \nQ 1550 3584 1831 3584 \nQ 2591 3584 2966 3190 \nQ 3341 2797 3341 1997 \nz\n\" transform=\"scale(0.015625)\"/>\n       <path id=\"DejaVuSans-69\" d=\"M 603 3500 \nL 1178 3500 \nL 1178 0 \nL 603 0 \nL 603 3500 \nz\nM 603 4863 \nL 1178 4863 \nL 1178 4134 \nL 603 4134 \nL 603 4863 \nz\n\" transform=\"scale(0.015625)\"/>\n       <path id=\"DejaVuSans-6e\" d=\"M 3513 2113 \nL 3513 0 \nL 2938 0 \nL 2938 2094 \nQ 2938 2591 2744 2837 \nQ 2550 3084 2163 3084 \nQ 1697 3084 1428 2787 \nQ 1159 2491 1159 1978 \nL 1159 0 \nL 581 0 \nL 581 3500 \nL 1159 3500 \nL 1159 2956 \nQ 1366 3272 1645 3428 \nQ 1925 3584 2291 3584 \nQ 2894 3584 3203 3211 \nQ 3513 2838 3513 2113 \nz\n\" transform=\"scale(0.015625)\"/>\n      </defs>\n      <use xlink:href=\"#DejaVuSans-74\"/>\n      <use xlink:href=\"#DejaVuSans-72\" x=\"39.208984\"/>\n      <use xlink:href=\"#DejaVuSans-61\" x=\"80.322266\"/>\n      <use xlink:href=\"#DejaVuSans-69\" x=\"141.601562\"/>\n      <use xlink:href=\"#DejaVuSans-6e\" x=\"169.384766\"/>\n     </g>\n    </g>\n    <g id=\"line2d_27\">\n     <path d=\"M 179.826562 34.976562 \nL 189.826562 34.976562 \nL 199.826562 34.976562 \n\" style=\"fill: none; stroke-dasharray: 5.55,2.4; stroke-dashoffset: 0; stroke: #bf00bf; stroke-width: 1.5\"/>\n    </g>\n    <g id=\"text_10\">\n     <!-- valid -->\n     <g transform=\"translate(207.826562 38.476562)scale(0.1 -0.1)\">\n      <defs>\n       <path id=\"DejaVuSans-76\" d=\"M 191 3500 \nL 800 3500 \nL 1894 563 \nL 2988 3500 \nL 3597 3500 \nL 2284 0 \nL 1503 0 \nL 191 3500 \nz\n\" transform=\"scale(0.015625)\"/>\n       <path id=\"DejaVuSans-6c\" d=\"M 603 4863 \nL 1178 4863 \nL 1178 0 \nL 603 0 \nL 603 4863 \nz\n\" transform=\"scale(0.015625)\"/>\n       <path id=\"DejaVuSans-64\" d=\"M 2906 2969 \nL 2906 4863 \nL 3481 4863 \nL 3481 0 \nL 2906 0 \nL 2906 525 \nQ 2725 213 2448 61 \nQ 2172 -91 1784 -91 \nQ 1150 -91 751 415 \nQ 353 922 353 1747 \nQ 353 2572 751 3078 \nQ 1150 3584 1784 3584 \nQ 2172 3584 2448 3432 \nQ 2725 3281 2906 2969 \nz\nM 947 1747 \nQ 947 1113 1208 752 \nQ 1469 391 1925 391 \nQ 2381 391 2643 752 \nQ 2906 1113 2906 1747 \nQ 2906 2381 2643 2742 \nQ 2381 3103 1925 3103 \nQ 1469 3103 1208 2742 \nQ 947 2381 947 1747 \nz\n\" transform=\"scale(0.015625)\"/>\n      </defs>\n      <use xlink:href=\"#DejaVuSans-76\"/>\n      <use xlink:href=\"#DejaVuSans-61\" x=\"59.179688\"/>\n      <use xlink:href=\"#DejaVuSans-6c\" x=\"120.458984\"/>\n      <use xlink:href=\"#DejaVuSans-69\" x=\"148.242188\"/>\n      <use xlink:href=\"#DejaVuSans-64\" x=\"176.025391\"/>\n     </g>\n    </g>\n   </g>\n  </g>\n </g>\n <defs>\n  <clipPath id=\"pa76272cc00\">\n   <rect x=\"45.478125\" y=\"7.2\" width=\"195.3\" height=\"135.9\"/>\n  </clipPath>\n </defs>\n</svg>\n",
      "text/plain": [
       "<Figure size 252x180 with 1 Axes>"
      ]
     },
     "metadata": {
      "needs_background": "light"
     },
     "output_type": "display_data"
    }
   ],
   "source": [
    "k, num_epochs, learning_rate, weight_decay, batch_size = 5, 1000, 5, 0.04, 64\n",
    "train_loss, valid_loss = k_fold(k, train_features, train_labels, num_epochs, learning_rate, weight_decay, batch_size)\n",
    "print(f'{k} 折验证, 平均训练 log RMSE {float(train_loss):f}, 平均验证 log RMSE {float(valid_loss):f}')"
   ]
  },
  {
   "cell_type": "markdown",
   "metadata": {},
   "source": [
    "### 预测\n",
    "\n",
    "我们已经通过 $k$ 折交叉验证得到了合理的超参数值, 接下来就用这个值在整个训练集上进行预测"
   ]
  },
  {
   "cell_type": "code",
   "execution_count": 15,
   "metadata": {},
   "outputs": [],
   "source": [
    "def train_and_predict(train_features, test_features, train_labels, test_data, num_epochs, learning_rate, weight_decay, batch_size):\n",
    "    net = get_net()\n",
    "    train_loss, _ = train(net, train_features, train_labels, None, None, num_epochs, learning_rate, weight_decay, batch_size)\n",
    "    d2l.plot(np.arange(1,num_epochs+1), [train_loss], xlabel='epochs', ylabel='log RMSE', xlim=[1,num_epochs], yscale='log')\n",
    "    print(f'训练log rmse: {float(train_loss[-1]):f}')\n",
    "    preds = net(test_features).detach().numpy()\n",
    "    test_data['SalePrice'] = pd.Series(preds.reshape(1, -1)[0])\n",
    "    submission = pd.concat([test_data['Id'], test_data['SalePrice']], axis=1)\n",
    "    submission.to_csv('submission.csv', index=False)"
   ]
  },
  {
   "cell_type": "code",
   "execution_count": 16,
   "metadata": {},
   "outputs": [
    {
     "name": "stdout",
     "output_type": "stream",
     "text": [
      "训练log rmse: 0.132307\n"
     ]
    },
    {
     "data": {
      "image/svg+xml": "<?xml version=\"1.0\" encoding=\"utf-8\" standalone=\"no\"?>\n<!DOCTYPE svg PUBLIC \"-//W3C//DTD SVG 1.1//EN\"\n  \"http://www.w3.org/Graphics/SVG/1.1/DTD/svg11.dtd\">\n<svg xmlns:xlink=\"http://www.w3.org/1999/xlink\" width=\"260.703125pt\" height=\"180.65625pt\" viewBox=\"0 0 260.703125 180.65625\" xmlns=\"http://www.w3.org/2000/svg\" version=\"1.1\">\n <metadata>\n  <rdf:RDF xmlns:dc=\"http://purl.org/dc/elements/1.1/\" xmlns:cc=\"http://creativecommons.org/ns#\" xmlns:rdf=\"http://www.w3.org/1999/02/22-rdf-syntax-ns#\">\n   <cc:Work>\n    <dc:type rdf:resource=\"http://purl.org/dc/dcmitype/StillImage\"/>\n    <dc:date>2022-07-05T16:02:19.783432</dc:date>\n    <dc:format>image/svg+xml</dc:format>\n    <dc:creator>\n     <cc:Agent>\n      <dc:title>Matplotlib v3.5.1, https://matplotlib.org/</dc:title>\n     </cc:Agent>\n    </dc:creator>\n   </cc:Work>\n  </rdf:RDF>\n </metadata>\n <defs>\n  <style type=\"text/css\">*{stroke-linejoin: round; stroke-linecap: butt}</style>\n </defs>\n <g id=\"figure_1\">\n  <g id=\"patch_1\">\n   <path d=\"M 0 180.65625 \nL 260.703125 180.65625 \nL 260.703125 0 \nL 0 0 \nL 0 180.65625 \nz\n\" style=\"fill: none\"/>\n  </g>\n  <g id=\"axes_1\">\n   <g id=\"patch_2\">\n    <path d=\"M 45.478125 143.1 \nL 240.778125 143.1 \nL 240.778125 7.2 \nL 45.478125 7.2 \nz\n\" style=\"fill: #ffffff\"/>\n   </g>\n   <g id=\"matplotlib.axis_1\">\n    <g id=\"xtick_1\">\n     <g id=\"line2d_1\">\n      <path d=\"M 84.381729 143.1 \nL 84.381729 7.2 \n\" clip-path=\"url(#pca0e1d1672)\" style=\"fill: none; stroke: #b0b0b0; stroke-width: 0.8; stroke-linecap: square\"/>\n     </g>\n     <g id=\"line2d_2\">\n      <defs>\n       <path id=\"m522e1fe347\" d=\"M 0 0 \nL 0 3.5 \n\" style=\"stroke: #000000; stroke-width: 0.8\"/>\n      </defs>\n      <g>\n       <use xlink:href=\"#m522e1fe347\" x=\"84.381729\" y=\"143.1\" style=\"stroke: #000000; stroke-width: 0.8\"/>\n      </g>\n     </g>\n     <g id=\"text_1\">\n      <!-- 200 -->\n      <g transform=\"translate(74.837979 157.698438)scale(0.1 -0.1)\">\n       <defs>\n        <path id=\"DejaVuSans-32\" d=\"M 1228 531 \nL 3431 531 \nL 3431 0 \nL 469 0 \nL 469 531 \nQ 828 903 1448 1529 \nQ 2069 2156 2228 2338 \nQ 2531 2678 2651 2914 \nQ 2772 3150 2772 3378 \nQ 2772 3750 2511 3984 \nQ 2250 4219 1831 4219 \nQ 1534 4219 1204 4116 \nQ 875 4013 500 3803 \nL 500 4441 \nQ 881 4594 1212 4672 \nQ 1544 4750 1819 4750 \nQ 2544 4750 2975 4387 \nQ 3406 4025 3406 3419 \nQ 3406 3131 3298 2873 \nQ 3191 2616 2906 2266 \nQ 2828 2175 2409 1742 \nQ 1991 1309 1228 531 \nz\n\" transform=\"scale(0.015625)\"/>\n        <path id=\"DejaVuSans-30\" d=\"M 2034 4250 \nQ 1547 4250 1301 3770 \nQ 1056 3291 1056 2328 \nQ 1056 1369 1301 889 \nQ 1547 409 2034 409 \nQ 2525 409 2770 889 \nQ 3016 1369 3016 2328 \nQ 3016 3291 2770 3770 \nQ 2525 4250 2034 4250 \nz\nM 2034 4750 \nQ 2819 4750 3233 4129 \nQ 3647 3509 3647 2328 \nQ 3647 1150 3233 529 \nQ 2819 -91 2034 -91 \nQ 1250 -91 836 529 \nQ 422 1150 422 2328 \nQ 422 3509 836 4129 \nQ 1250 4750 2034 4750 \nz\n\" transform=\"scale(0.015625)\"/>\n       </defs>\n       <use xlink:href=\"#DejaVuSans-32\"/>\n       <use xlink:href=\"#DejaVuSans-30\" x=\"63.623047\"/>\n       <use xlink:href=\"#DejaVuSans-30\" x=\"127.246094\"/>\n      </g>\n     </g>\n    </g>\n    <g id=\"xtick_2\">\n     <g id=\"line2d_3\">\n      <path d=\"M 123.480828 143.1 \nL 123.480828 7.2 \n\" clip-path=\"url(#pca0e1d1672)\" style=\"fill: none; stroke: #b0b0b0; stroke-width: 0.8; stroke-linecap: square\"/>\n     </g>\n     <g id=\"line2d_4\">\n      <g>\n       <use xlink:href=\"#m522e1fe347\" x=\"123.480828\" y=\"143.1\" style=\"stroke: #000000; stroke-width: 0.8\"/>\n      </g>\n     </g>\n     <g id=\"text_2\">\n      <!-- 400 -->\n      <g transform=\"translate(113.937078 157.698438)scale(0.1 -0.1)\">\n       <defs>\n        <path id=\"DejaVuSans-34\" d=\"M 2419 4116 \nL 825 1625 \nL 2419 1625 \nL 2419 4116 \nz\nM 2253 4666 \nL 3047 4666 \nL 3047 1625 \nL 3713 1625 \nL 3713 1100 \nL 3047 1100 \nL 3047 0 \nL 2419 0 \nL 2419 1100 \nL 313 1100 \nL 313 1709 \nL 2253 4666 \nz\n\" transform=\"scale(0.015625)\"/>\n       </defs>\n       <use xlink:href=\"#DejaVuSans-34\"/>\n       <use xlink:href=\"#DejaVuSans-30\" x=\"63.623047\"/>\n       <use xlink:href=\"#DejaVuSans-30\" x=\"127.246094\"/>\n      </g>\n     </g>\n    </g>\n    <g id=\"xtick_3\">\n     <g id=\"line2d_5\">\n      <path d=\"M 162.579927 143.1 \nL 162.579927 7.2 \n\" clip-path=\"url(#pca0e1d1672)\" style=\"fill: none; stroke: #b0b0b0; stroke-width: 0.8; stroke-linecap: square\"/>\n     </g>\n     <g id=\"line2d_6\">\n      <g>\n       <use xlink:href=\"#m522e1fe347\" x=\"162.579927\" y=\"143.1\" style=\"stroke: #000000; stroke-width: 0.8\"/>\n      </g>\n     </g>\n     <g id=\"text_3\">\n      <!-- 600 -->\n      <g transform=\"translate(153.036177 157.698438)scale(0.1 -0.1)\">\n       <defs>\n        <path id=\"DejaVuSans-36\" d=\"M 2113 2584 \nQ 1688 2584 1439 2293 \nQ 1191 2003 1191 1497 \nQ 1191 994 1439 701 \nQ 1688 409 2113 409 \nQ 2538 409 2786 701 \nQ 3034 994 3034 1497 \nQ 3034 2003 2786 2293 \nQ 2538 2584 2113 2584 \nz\nM 3366 4563 \nL 3366 3988 \nQ 3128 4100 2886 4159 \nQ 2644 4219 2406 4219 \nQ 1781 4219 1451 3797 \nQ 1122 3375 1075 2522 \nQ 1259 2794 1537 2939 \nQ 1816 3084 2150 3084 \nQ 2853 3084 3261 2657 \nQ 3669 2231 3669 1497 \nQ 3669 778 3244 343 \nQ 2819 -91 2113 -91 \nQ 1303 -91 875 529 \nQ 447 1150 447 2328 \nQ 447 3434 972 4092 \nQ 1497 4750 2381 4750 \nQ 2619 4750 2861 4703 \nQ 3103 4656 3366 4563 \nz\n\" transform=\"scale(0.015625)\"/>\n       </defs>\n       <use xlink:href=\"#DejaVuSans-36\"/>\n       <use xlink:href=\"#DejaVuSans-30\" x=\"63.623047\"/>\n       <use xlink:href=\"#DejaVuSans-30\" x=\"127.246094\"/>\n      </g>\n     </g>\n    </g>\n    <g id=\"xtick_4\">\n     <g id=\"line2d_7\">\n      <path d=\"M 201.679026 143.1 \nL 201.679026 7.2 \n\" clip-path=\"url(#pca0e1d1672)\" style=\"fill: none; stroke: #b0b0b0; stroke-width: 0.8; stroke-linecap: square\"/>\n     </g>\n     <g id=\"line2d_8\">\n      <g>\n       <use xlink:href=\"#m522e1fe347\" x=\"201.679026\" y=\"143.1\" style=\"stroke: #000000; stroke-width: 0.8\"/>\n      </g>\n     </g>\n     <g id=\"text_4\">\n      <!-- 800 -->\n      <g transform=\"translate(192.135276 157.698438)scale(0.1 -0.1)\">\n       <defs>\n        <path id=\"DejaVuSans-38\" d=\"M 2034 2216 \nQ 1584 2216 1326 1975 \nQ 1069 1734 1069 1313 \nQ 1069 891 1326 650 \nQ 1584 409 2034 409 \nQ 2484 409 2743 651 \nQ 3003 894 3003 1313 \nQ 3003 1734 2745 1975 \nQ 2488 2216 2034 2216 \nz\nM 1403 2484 \nQ 997 2584 770 2862 \nQ 544 3141 544 3541 \nQ 544 4100 942 4425 \nQ 1341 4750 2034 4750 \nQ 2731 4750 3128 4425 \nQ 3525 4100 3525 3541 \nQ 3525 3141 3298 2862 \nQ 3072 2584 2669 2484 \nQ 3125 2378 3379 2068 \nQ 3634 1759 3634 1313 \nQ 3634 634 3220 271 \nQ 2806 -91 2034 -91 \nQ 1263 -91 848 271 \nQ 434 634 434 1313 \nQ 434 1759 690 2068 \nQ 947 2378 1403 2484 \nz\nM 1172 3481 \nQ 1172 3119 1398 2916 \nQ 1625 2713 2034 2713 \nQ 2441 2713 2670 2916 \nQ 2900 3119 2900 3481 \nQ 2900 3844 2670 4047 \nQ 2441 4250 2034 4250 \nQ 1625 4250 1398 4047 \nQ 1172 3844 1172 3481 \nz\n\" transform=\"scale(0.015625)\"/>\n       </defs>\n       <use xlink:href=\"#DejaVuSans-38\"/>\n       <use xlink:href=\"#DejaVuSans-30\" x=\"63.623047\"/>\n       <use xlink:href=\"#DejaVuSans-30\" x=\"127.246094\"/>\n      </g>\n     </g>\n    </g>\n    <g id=\"xtick_5\">\n     <g id=\"line2d_9\">\n      <path d=\"M 240.778125 143.1 \nL 240.778125 7.2 \n\" clip-path=\"url(#pca0e1d1672)\" style=\"fill: none; stroke: #b0b0b0; stroke-width: 0.8; stroke-linecap: square\"/>\n     </g>\n     <g id=\"line2d_10\">\n      <g>\n       <use xlink:href=\"#m522e1fe347\" x=\"240.778125\" y=\"143.1\" style=\"stroke: #000000; stroke-width: 0.8\"/>\n      </g>\n     </g>\n     <g id=\"text_5\">\n      <!-- 1000 -->\n      <g transform=\"translate(228.053125 157.698438)scale(0.1 -0.1)\">\n       <defs>\n        <path id=\"DejaVuSans-31\" d=\"M 794 531 \nL 1825 531 \nL 1825 4091 \nL 703 3866 \nL 703 4441 \nL 1819 4666 \nL 2450 4666 \nL 2450 531 \nL 3481 531 \nL 3481 0 \nL 794 0 \nL 794 531 \nz\n\" transform=\"scale(0.015625)\"/>\n       </defs>\n       <use xlink:href=\"#DejaVuSans-31\"/>\n       <use xlink:href=\"#DejaVuSans-30\" x=\"63.623047\"/>\n       <use xlink:href=\"#DejaVuSans-30\" x=\"127.246094\"/>\n       <use xlink:href=\"#DejaVuSans-30\" x=\"190.869141\"/>\n      </g>\n     </g>\n    </g>\n    <g id=\"text_6\">\n     <!-- epochs -->\n     <g transform=\"translate(125.295313 171.376563)scale(0.1 -0.1)\">\n      <defs>\n       <path id=\"DejaVuSans-65\" d=\"M 3597 1894 \nL 3597 1613 \nL 953 1613 \nQ 991 1019 1311 708 \nQ 1631 397 2203 397 \nQ 2534 397 2845 478 \nQ 3156 559 3463 722 \nL 3463 178 \nQ 3153 47 2828 -22 \nQ 2503 -91 2169 -91 \nQ 1331 -91 842 396 \nQ 353 884 353 1716 \nQ 353 2575 817 3079 \nQ 1281 3584 2069 3584 \nQ 2775 3584 3186 3129 \nQ 3597 2675 3597 1894 \nz\nM 3022 2063 \nQ 3016 2534 2758 2815 \nQ 2500 3097 2075 3097 \nQ 1594 3097 1305 2825 \nQ 1016 2553 972 2059 \nL 3022 2063 \nz\n\" transform=\"scale(0.015625)\"/>\n       <path id=\"DejaVuSans-70\" d=\"M 1159 525 \nL 1159 -1331 \nL 581 -1331 \nL 581 3500 \nL 1159 3500 \nL 1159 2969 \nQ 1341 3281 1617 3432 \nQ 1894 3584 2278 3584 \nQ 2916 3584 3314 3078 \nQ 3713 2572 3713 1747 \nQ 3713 922 3314 415 \nQ 2916 -91 2278 -91 \nQ 1894 -91 1617 61 \nQ 1341 213 1159 525 \nz\nM 3116 1747 \nQ 3116 2381 2855 2742 \nQ 2594 3103 2138 3103 \nQ 1681 3103 1420 2742 \nQ 1159 2381 1159 1747 \nQ 1159 1113 1420 752 \nQ 1681 391 2138 391 \nQ 2594 391 2855 752 \nQ 3116 1113 3116 1747 \nz\n\" transform=\"scale(0.015625)\"/>\n       <path id=\"DejaVuSans-6f\" d=\"M 1959 3097 \nQ 1497 3097 1228 2736 \nQ 959 2375 959 1747 \nQ 959 1119 1226 758 \nQ 1494 397 1959 397 \nQ 2419 397 2687 759 \nQ 2956 1122 2956 1747 \nQ 2956 2369 2687 2733 \nQ 2419 3097 1959 3097 \nz\nM 1959 3584 \nQ 2709 3584 3137 3096 \nQ 3566 2609 3566 1747 \nQ 3566 888 3137 398 \nQ 2709 -91 1959 -91 \nQ 1206 -91 779 398 \nQ 353 888 353 1747 \nQ 353 2609 779 3096 \nQ 1206 3584 1959 3584 \nz\n\" transform=\"scale(0.015625)\"/>\n       <path id=\"DejaVuSans-63\" d=\"M 3122 3366 \nL 3122 2828 \nQ 2878 2963 2633 3030 \nQ 2388 3097 2138 3097 \nQ 1578 3097 1268 2742 \nQ 959 2388 959 1747 \nQ 959 1106 1268 751 \nQ 1578 397 2138 397 \nQ 2388 397 2633 464 \nQ 2878 531 3122 666 \nL 3122 134 \nQ 2881 22 2623 -34 \nQ 2366 -91 2075 -91 \nQ 1284 -91 818 406 \nQ 353 903 353 1747 \nQ 353 2603 823 3093 \nQ 1294 3584 2113 3584 \nQ 2378 3584 2631 3529 \nQ 2884 3475 3122 3366 \nz\n\" transform=\"scale(0.015625)\"/>\n       <path id=\"DejaVuSans-68\" d=\"M 3513 2113 \nL 3513 0 \nL 2938 0 \nL 2938 2094 \nQ 2938 2591 2744 2837 \nQ 2550 3084 2163 3084 \nQ 1697 3084 1428 2787 \nQ 1159 2491 1159 1978 \nL 1159 0 \nL 581 0 \nL 581 4863 \nL 1159 4863 \nL 1159 2956 \nQ 1366 3272 1645 3428 \nQ 1925 3584 2291 3584 \nQ 2894 3584 3203 3211 \nQ 3513 2838 3513 2113 \nz\n\" transform=\"scale(0.015625)\"/>\n       <path id=\"DejaVuSans-73\" d=\"M 2834 3397 \nL 2834 2853 \nQ 2591 2978 2328 3040 \nQ 2066 3103 1784 3103 \nQ 1356 3103 1142 2972 \nQ 928 2841 928 2578 \nQ 928 2378 1081 2264 \nQ 1234 2150 1697 2047 \nL 1894 2003 \nQ 2506 1872 2764 1633 \nQ 3022 1394 3022 966 \nQ 3022 478 2636 193 \nQ 2250 -91 1575 -91 \nQ 1294 -91 989 -36 \nQ 684 19 347 128 \nL 347 722 \nQ 666 556 975 473 \nQ 1284 391 1588 391 \nQ 1994 391 2212 530 \nQ 2431 669 2431 922 \nQ 2431 1156 2273 1281 \nQ 2116 1406 1581 1522 \nL 1381 1569 \nQ 847 1681 609 1914 \nQ 372 2147 372 2553 \nQ 372 3047 722 3315 \nQ 1072 3584 1716 3584 \nQ 2034 3584 2315 3537 \nQ 2597 3491 2834 3397 \nz\n\" transform=\"scale(0.015625)\"/>\n      </defs>\n      <use xlink:href=\"#DejaVuSans-65\"/>\n      <use xlink:href=\"#DejaVuSans-70\" x=\"61.523438\"/>\n      <use xlink:href=\"#DejaVuSans-6f\" x=\"125\"/>\n      <use xlink:href=\"#DejaVuSans-63\" x=\"186.181641\"/>\n      <use xlink:href=\"#DejaVuSans-68\" x=\"241.162109\"/>\n      <use xlink:href=\"#DejaVuSans-73\" x=\"304.541016\"/>\n     </g>\n    </g>\n   </g>\n   <g id=\"matplotlib.axis_2\">\n    <g id=\"ytick_1\">\n     <g id=\"line2d_11\">\n      <path d=\"M 45.478125 62.256227 \nL 240.778125 62.256227 \n\" clip-path=\"url(#pca0e1d1672)\" style=\"fill: none; stroke: #b0b0b0; stroke-width: 0.8; stroke-linecap: square\"/>\n     </g>\n     <g id=\"line2d_12\">\n      <defs>\n       <path id=\"ma22d19341c\" d=\"M 0 0 \nL -3.5 0 \n\" style=\"stroke: #000000; stroke-width: 0.8\"/>\n      </defs>\n      <g>\n       <use xlink:href=\"#ma22d19341c\" x=\"45.478125\" y=\"62.256227\" style=\"stroke: #000000; stroke-width: 0.8\"/>\n      </g>\n     </g>\n     <g id=\"text_7\">\n      <!-- $\\mathdefault{10^{0}}$ -->\n      <g transform=\"translate(20.878125 66.055446)scale(0.1 -0.1)\">\n       <use xlink:href=\"#DejaVuSans-31\" transform=\"translate(0 0.765625)\"/>\n       <use xlink:href=\"#DejaVuSans-30\" transform=\"translate(63.623047 0.765625)\"/>\n       <use xlink:href=\"#DejaVuSans-30\" transform=\"translate(128.203125 39.046875)scale(0.7)\"/>\n      </g>\n     </g>\n    </g>\n    <g id=\"ytick_2\">\n     <g id=\"line2d_13\">\n      <defs>\n       <path id=\"m64805dee92\" d=\"M 0 0 \nL -2 0 \n\" style=\"stroke: #000000; stroke-width: 0.6\"/>\n      </defs>\n      <g>\n       <use xlink:href=\"#m64805dee92\" x=\"45.478125\" y=\"121.547831\" style=\"stroke: #000000; stroke-width: 0.6\"/>\n      </g>\n     </g>\n    </g>\n    <g id=\"ytick_3\">\n     <g id=\"line2d_14\">\n      <g>\n       <use xlink:href=\"#m64805dee92\" x=\"45.478125\" y=\"106.610519\" style=\"stroke: #000000; stroke-width: 0.6\"/>\n      </g>\n     </g>\n    </g>\n    <g id=\"ytick_4\">\n     <g id=\"line2d_15\">\n      <g>\n       <use xlink:href=\"#m64805dee92\" x=\"45.478125\" y=\"96.012327\" style=\"stroke: #000000; stroke-width: 0.6\"/>\n      </g>\n     </g>\n    </g>\n    <g id=\"ytick_5\">\n     <g id=\"line2d_16\">\n      <g>\n       <use xlink:href=\"#m64805dee92\" x=\"45.478125\" y=\"87.791731\" style=\"stroke: #000000; stroke-width: 0.6\"/>\n      </g>\n     </g>\n    </g>\n    <g id=\"ytick_6\">\n     <g id=\"line2d_17\">\n      <g>\n       <use xlink:href=\"#m64805dee92\" x=\"45.478125\" y=\"81.075015\" style=\"stroke: #000000; stroke-width: 0.6\"/>\n      </g>\n     </g>\n    </g>\n    <g id=\"ytick_7\">\n     <g id=\"line2d_18\">\n      <g>\n       <use xlink:href=\"#m64805dee92\" x=\"45.478125\" y=\"75.396112\" style=\"stroke: #000000; stroke-width: 0.6\"/>\n      </g>\n     </g>\n    </g>\n    <g id=\"ytick_8\">\n     <g id=\"line2d_19\">\n      <g>\n       <use xlink:href=\"#m64805dee92\" x=\"45.478125\" y=\"70.476823\" style=\"stroke: #000000; stroke-width: 0.6\"/>\n      </g>\n     </g>\n    </g>\n    <g id=\"ytick_9\">\n     <g id=\"line2d_20\">\n      <g>\n       <use xlink:href=\"#m64805dee92\" x=\"45.478125\" y=\"66.137703\" style=\"stroke: #000000; stroke-width: 0.6\"/>\n      </g>\n     </g>\n    </g>\n    <g id=\"ytick_10\">\n     <g id=\"line2d_21\">\n      <g>\n       <use xlink:href=\"#m64805dee92\" x=\"45.478125\" y=\"36.720723\" style=\"stroke: #000000; stroke-width: 0.6\"/>\n      </g>\n     </g>\n    </g>\n    <g id=\"ytick_11\">\n     <g id=\"line2d_22\">\n      <g>\n       <use xlink:href=\"#m64805dee92\" x=\"45.478125\" y=\"21.783411\" style=\"stroke: #000000; stroke-width: 0.6\"/>\n      </g>\n     </g>\n    </g>\n    <g id=\"ytick_12\">\n     <g id=\"line2d_23\">\n      <g>\n       <use xlink:href=\"#m64805dee92\" x=\"45.478125\" y=\"11.185219\" style=\"stroke: #000000; stroke-width: 0.6\"/>\n      </g>\n     </g>\n    </g>\n    <g id=\"text_8\">\n     <!-- log RMSE -->\n     <g transform=\"translate(14.798438 98.483594)rotate(-90)scale(0.1 -0.1)\">\n      <defs>\n       <path id=\"DejaVuSans-6c\" d=\"M 603 4863 \nL 1178 4863 \nL 1178 0 \nL 603 0 \nL 603 4863 \nz\n\" transform=\"scale(0.015625)\"/>\n       <path id=\"DejaVuSans-67\" d=\"M 2906 1791 \nQ 2906 2416 2648 2759 \nQ 2391 3103 1925 3103 \nQ 1463 3103 1205 2759 \nQ 947 2416 947 1791 \nQ 947 1169 1205 825 \nQ 1463 481 1925 481 \nQ 2391 481 2648 825 \nQ 2906 1169 2906 1791 \nz\nM 3481 434 \nQ 3481 -459 3084 -895 \nQ 2688 -1331 1869 -1331 \nQ 1566 -1331 1297 -1286 \nQ 1028 -1241 775 -1147 \nL 775 -588 \nQ 1028 -725 1275 -790 \nQ 1522 -856 1778 -856 \nQ 2344 -856 2625 -561 \nQ 2906 -266 2906 331 \nL 2906 616 \nQ 2728 306 2450 153 \nQ 2172 0 1784 0 \nQ 1141 0 747 490 \nQ 353 981 353 1791 \nQ 353 2603 747 3093 \nQ 1141 3584 1784 3584 \nQ 2172 3584 2450 3431 \nQ 2728 3278 2906 2969 \nL 2906 3500 \nL 3481 3500 \nL 3481 434 \nz\n\" transform=\"scale(0.015625)\"/>\n       <path id=\"DejaVuSans-20\" transform=\"scale(0.015625)\"/>\n       <path id=\"DejaVuSans-52\" d=\"M 2841 2188 \nQ 3044 2119 3236 1894 \nQ 3428 1669 3622 1275 \nL 4263 0 \nL 3584 0 \nL 2988 1197 \nQ 2756 1666 2539 1819 \nQ 2322 1972 1947 1972 \nL 1259 1972 \nL 1259 0 \nL 628 0 \nL 628 4666 \nL 2053 4666 \nQ 2853 4666 3247 4331 \nQ 3641 3997 3641 3322 \nQ 3641 2881 3436 2590 \nQ 3231 2300 2841 2188 \nz\nM 1259 4147 \nL 1259 2491 \nL 2053 2491 \nQ 2509 2491 2742 2702 \nQ 2975 2913 2975 3322 \nQ 2975 3731 2742 3939 \nQ 2509 4147 2053 4147 \nL 1259 4147 \nz\n\" transform=\"scale(0.015625)\"/>\n       <path id=\"DejaVuSans-4d\" d=\"M 628 4666 \nL 1569 4666 \nL 2759 1491 \nL 3956 4666 \nL 4897 4666 \nL 4897 0 \nL 4281 0 \nL 4281 4097 \nL 3078 897 \nL 2444 897 \nL 1241 4097 \nL 1241 0 \nL 628 0 \nL 628 4666 \nz\n\" transform=\"scale(0.015625)\"/>\n       <path id=\"DejaVuSans-53\" d=\"M 3425 4513 \nL 3425 3897 \nQ 3066 4069 2747 4153 \nQ 2428 4238 2131 4238 \nQ 1616 4238 1336 4038 \nQ 1056 3838 1056 3469 \nQ 1056 3159 1242 3001 \nQ 1428 2844 1947 2747 \nL 2328 2669 \nQ 3034 2534 3370 2195 \nQ 3706 1856 3706 1288 \nQ 3706 609 3251 259 \nQ 2797 -91 1919 -91 \nQ 1588 -91 1214 -16 \nQ 841 59 441 206 \nL 441 856 \nQ 825 641 1194 531 \nQ 1563 422 1919 422 \nQ 2459 422 2753 634 \nQ 3047 847 3047 1241 \nQ 3047 1584 2836 1778 \nQ 2625 1972 2144 2069 \nL 1759 2144 \nQ 1053 2284 737 2584 \nQ 422 2884 422 3419 \nQ 422 4038 858 4394 \nQ 1294 4750 2059 4750 \nQ 2388 4750 2728 4690 \nQ 3069 4631 3425 4513 \nz\n\" transform=\"scale(0.015625)\"/>\n       <path id=\"DejaVuSans-45\" d=\"M 628 4666 \nL 3578 4666 \nL 3578 4134 \nL 1259 4134 \nL 1259 2753 \nL 3481 2753 \nL 3481 2222 \nL 1259 2222 \nL 1259 531 \nL 3634 531 \nL 3634 0 \nL 628 0 \nL 628 4666 \nz\n\" transform=\"scale(0.015625)\"/>\n      </defs>\n      <use xlink:href=\"#DejaVuSans-6c\"/>\n      <use xlink:href=\"#DejaVuSans-6f\" x=\"27.783203\"/>\n      <use xlink:href=\"#DejaVuSans-67\" x=\"88.964844\"/>\n      <use xlink:href=\"#DejaVuSans-20\" x=\"152.441406\"/>\n      <use xlink:href=\"#DejaVuSans-52\" x=\"184.228516\"/>\n      <use xlink:href=\"#DejaVuSans-4d\" x=\"253.710938\"/>\n      <use xlink:href=\"#DejaVuSans-53\" x=\"339.990234\"/>\n      <use xlink:href=\"#DejaVuSans-45\" x=\"403.466797\"/>\n     </g>\n    </g>\n   </g>\n   <g id=\"line2d_24\">\n    <path d=\"M 45.478125 13.377273 \nL 45.869116 25.893089 \nL 46.455602 36.520176 \nL 47.237584 46.63371 \nL 48.410557 58.691585 \nL 50.170017 74.031429 \nL 52.320467 90.909882 \nL 54.275422 104.693735 \nL 55.643891 112.8839 \nL 56.621368 117.630509 \nL 57.598846 121.328427 \nL 58.380828 123.546378 \nL 59.16281 125.15671 \nL 59.944792 126.256935 \nL 60.726774 126.983335 \nL 61.508756 127.417005 \nL 62.681729 127.682266 \nL 63.463711 127.708845 \nL 64.441188 127.629613 \nL 66.98263 127.190751 \nL 67.569116 127.164028 \nL 67.960107 127.126667 \nL 68.155602 127.218238 \nL 68.351098 127.072888 \nL 68.742089 127.186189 \nL 68.937584 127.152129 \nL 69.524071 127.341819 \nL 70.306053 127.487088 \nL 70.892539 127.808906 \nL 71.088035 127.752297 \nL 71.28353 127.965705 \nL 71.479026 127.964809 \nL 72.456503 128.469641 \nL 75.779927 129.93233 \nL 76.757404 130.391503 \nL 76.9529 130.386412 \nL 77.734882 130.758294 \nL 80.667314 131.776065 \nL 82.231278 132.190452 \nL 85.163711 132.989246 \nL 85.554702 133.091953 \nL 91.810557 134.218535 \nL 92.006053 134.193951 \nL 92.201548 134.311987 \nL 92.592539 134.299162 \nL 93.179026 134.4138 \nL 96.89344 134.950884 \nL 97.284431 134.974978 \nL 108.036684 135.859574 \nL 108.62317 135.8557 \nL 109.209657 135.967831 \nL 109.405152 135.906109 \nL 110.187134 136.072955 \nL 113.119566 136.167536 \nL 113.510557 136.196843 \nL 116.051999 136.259647 \nL 116.247494 136.332735 \nL 116.638485 136.265459 \nL 118.202449 136.399 \nL 119.179927 136.355974 \nL 119.375422 136.448784 \nL 119.766413 136.414053 \nL 120.548395 136.476353 \nL 120.939386 136.44241 \nL 121.330377 136.478016 \nL 122.112359 136.482297 \nL 125.631278 136.513817 \nL 126.022269 136.542943 \nL 127.781729 136.607229 \nL 128.17272 136.575212 \nL 128.759206 136.637665 \nL 129.150197 136.63351 \nL 129.932179 136.688092 \nL 130.32317 136.606023 \nL 130.518666 136.685882 \nL 131.105152 136.648044 \nL 134.23308 136.625546 \nL 134.428575 136.742316 \nL 135.015062 136.700228 \nL 135.601548 136.743539 \nL 135.992539 136.710964 \nL 136.579026 136.725457 \nL 136.970017 136.680649 \nL 137.361008 136.737635 \nL 151.045693 136.844657 \nL 151.241188 136.76235 \nL 151.632179 136.812421 \nL 152.609657 136.812325 \nL 153.000648 136.821727 \nL 154.17362 136.807171 \nL 154.760107 136.84373 \nL 158.670017 136.848366 \nL 158.865512 136.793687 \nL 159.256503 136.850083 \nL 159.451999 136.805173 \nL 159.84299 136.858059 \nL 160.624972 136.82491 \nL 161.015963 136.848391 \nL 161.602449 136.796395 \nL 161.797945 136.870921 \nL 162.384431 136.791749 \nL 163.166413 136.889153 \nL 163.557404 136.811225 \nL 163.948395 136.881274 \nL 167.467314 136.81859 \nL 167.858305 136.856783 \nL 168.053801 136.780242 \nL 168.640287 136.84642 \nL 169.422269 136.839539 \nL 171.57272 136.850678 \nL 176.655602 136.808259 \nL 177.046593 136.890131 \nL 177.437584 136.825163 \nL 177.63308 136.776088 \nL 177.828575 136.893791 \nL 178.219566 136.814772 \nL 179.588035 136.912075 \nL 179.979026 136.824636 \nL 181.54299 136.886689 \nL 181.933981 136.827362 \nL 182.715963 136.840928 \nL 183.497945 136.835391 \nL 184.279927 136.881865 \nL 185.061909 136.851871 \nL 185.4529 136.853535 \nL 185.648395 136.793438 \nL 186.039386 136.857036 \nL 186.430377 136.805439 \nL 186.821368 136.855689 \nL 187.016864 136.897217 \nL 187.407855 136.822944 \nL 187.798846 136.859482 \nL 188.189837 136.847534 \nL 188.971819 136.85027 \nL 194.641188 136.808994 \nL 195.032179 136.871233 \nL 198.746593 136.794933 \nL 201.679026 136.833571 \nL 202.461008 136.819105 \nL 205.588936 136.840853 \nL 206.175422 136.822305 \nL 206.566413 136.837099 \nL 207.934882 136.820551 \nL 208.325873 136.875011 \nL 208.716864 136.805264 \nL 209.107855 136.847231 \nL 212.626774 136.784496 \nL 213.017765 136.880417 \nL 213.408756 136.876651 \nL 213.995242 136.843514 \nL 214.190738 136.808637 \nL 214.386233 136.906944 \nL 214.777224 136.787896 \nL 215.363711 136.837486 \nL 219.27362 136.837016 \nL 219.860107 136.789436 \nL 220.837584 136.882323 \nL 221.228575 136.854766 \nL 225.724972 136.805559 \nL 226.115963 136.857402 \nL 227.484431 136.803263 \nL 227.875422 136.817061 \nL 228.266413 136.768893 \nL 229.243891 136.886473 \nL 229.634882 136.888945 \nL 230.612359 136.796955 \nL 231.00335 136.871962 \nL 232.371819 136.848549 \nL 234.326774 136.842865 \nL 234.522269 136.775768 \nL 235.108756 136.864864 \nL 235.695242 136.86231 \nL 236.67272 136.811536 \nL 237.063711 136.834019 \nL 237.650197 136.787543 \nL 239.605152 136.831335 \nL 239.996143 136.800144 \nL 240.58263 136.823293 \nL 240.778125 136.769694 \nL 240.778125 136.769694 \n\" clip-path=\"url(#pca0e1d1672)\" style=\"fill: none; stroke: #1f77b4; stroke-width: 1.5; stroke-linecap: square\"/>\n   </g>\n   <g id=\"patch_3\">\n    <path d=\"M 45.478125 143.1 \nL 45.478125 7.2 \n\" style=\"fill: none; stroke: #000000; stroke-width: 0.8; stroke-linejoin: miter; stroke-linecap: square\"/>\n   </g>\n   <g id=\"patch_4\">\n    <path d=\"M 240.778125 143.1 \nL 240.778125 7.2 \n\" style=\"fill: none; stroke: #000000; stroke-width: 0.8; stroke-linejoin: miter; stroke-linecap: square\"/>\n   </g>\n   <g id=\"patch_5\">\n    <path d=\"M 45.478125 143.1 \nL 240.778125 143.1 \n\" style=\"fill: none; stroke: #000000; stroke-width: 0.8; stroke-linejoin: miter; stroke-linecap: square\"/>\n   </g>\n   <g id=\"patch_6\">\n    <path d=\"M 45.478125 7.2 \nL 240.778125 7.2 \n\" style=\"fill: none; stroke: #000000; stroke-width: 0.8; stroke-linejoin: miter; stroke-linecap: square\"/>\n   </g>\n  </g>\n </g>\n <defs>\n  <clipPath id=\"pca0e1d1672\">\n   <rect x=\"45.478125\" y=\"7.2\" width=\"195.3\" height=\"135.9\"/>\n  </clipPath>\n </defs>\n</svg>\n",
      "text/plain": [
       "<Figure size 252x180 with 1 Axes>"
      ]
     },
     "metadata": {
      "needs_background": "light"
     },
     "output_type": "display_data"
    }
   ],
   "source": [
    "train_and_predict(train_features, test_features, train_labels, test_data, num_epochs, learning_rate, weight_decay, batch_size)"
   ]
  }
 ],
 "metadata": {
  "kernelspec": {
   "display_name": "Python 3.9.13 64-bit",
   "language": "python",
   "name": "python3"
  },
  "language_info": {
   "codemirror_mode": {
    "name": "ipython",
    "version": 3
   },
   "file_extension": ".py",
   "mimetype": "text/x-python",
   "name": "python",
   "nbconvert_exporter": "python",
   "pygments_lexer": "ipython3",
   "version": "3.9.13"
  },
  "orig_nbformat": 4,
  "vscode": {
   "interpreter": {
    "hash": "81e75cef6ba1b10275bdce9a4ca9089c470de9a530eb43eaa03a6734d261d4ab"
   }
  }
 },
 "nbformat": 4,
 "nbformat_minor": 2
}
