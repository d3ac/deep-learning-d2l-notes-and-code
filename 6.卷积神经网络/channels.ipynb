{
 "cells": [
  {
   "cell_type": "markdown",
   "metadata": {},
   "source": [
    "# 多输入多通道"
   ]
  },
  {
   "cell_type": "markdown",
   "metadata": {},
   "source": [
    "输入 $X$ : $c_i\\times n_h \\times n_w$\n",
    "\n",
    "核 $W$ : $c_o \\times c_i \\times k_h \\times k_w$\n",
    "\n",
    "偏差 $B$ : $c_o \\times c_i$\n",
    "\n",
    "输出 $Y$ : $c_o \\times m_h \\times m_w$\n",
    "\n",
    "$$\n",
    "Y = X \\star W + B\n",
    "$$"
   ]
  },
  {
   "cell_type": "markdown",
   "metadata": {},
   "source": [
    "时间复杂度 : $\\mathbf{O} = (c_i c_o\\times k_h k_w\\times m_h m_w)$\n",
    "\n",
    "FLOPS 即 Floating-point operations per second\n",
    "\n",
    "| 单位 | 运算次数 |\n",
    "| --- | --- |\n",
    "| MFLOPS | $10^6$ |\n",
    "| GFLOPS | $10^9$ |\n",
    "| TFLOPS | $10^{12}$ |\n",
    "| PFLOPS | $10^{15}$ |\n",
    "| EFLOPS | $10^{18}$ |\n",
    "\n",
    "CPU : 0.15 TF\n",
    "\n",
    "GPU : 没查到"
   ]
  },
  {
   "cell_type": "code",
   "execution_count": 10,
   "metadata": {},
   "outputs": [],
   "source": [
    "import torch\n",
    "from torch import nn\n",
    "import d2l.torch as d2l"
   ]
  },
  {
   "cell_type": "markdown",
   "metadata": {},
   "source": [
    "#### 实现多通道输入互相关运算"
   ]
  },
  {
   "cell_type": "code",
   "execution_count": 15,
   "metadata": {},
   "outputs": [],
   "source": [
    "def corr2d(X, K):\n",
    "    h, w = K.shape\n",
    "    Y = torch.zeros((X.shape[0]-h+1), (X.shape[1]-w+1))\n",
    "    for i in range(Y.shape[0]):\n",
    "        for j in range(Y.shape[1]):\n",
    "            Y[i, j] = (X[i:i+h, j:j+w] * K).sum()\n",
    "    return Y\n",
    "\n",
    "def multi_corr2d_in(X, K): # 注意 X, K 都是三维的 tensor\n",
    "    return sum(corr2d(x, k) for x, k in zip(X, K))"
   ]
  },
  {
   "cell_type": "code",
   "execution_count": 19,
   "metadata": {},
   "outputs": [
    {
     "data": {
      "text/plain": [
       "tensor([[ 56.,  72.],\n",
       "        [104., 120.]])"
      ]
     },
     "execution_count": 19,
     "metadata": {},
     "output_type": "execute_result"
    }
   ],
   "source": [
    "X = torch.tensor([[[0.0, 1.0, 2.0], [3.0, 4.0, 5.0], [6.0, 7.0, 8.0]],[[1.0, 2.0, 3.0], [4.0, 5.0, 6.0], [7.0, 8.0, 9.0]]])\n",
    "K = torch.tensor([[[0.0, 1.0], [2.0, 3.0]], [[1.0, 2.0], [3.0, 4.0]]])\n",
    "multi_corr2d_in(X, K)"
   ]
  },
  {
   "cell_type": "markdown",
   "metadata": {},
   "source": [
    "#### 实现多通道输入, 多通道输出\n",
    "\n",
    "$stack$ 可以在 $axis=0$ 上进行堆叠"
   ]
  },
  {
   "cell_type": "code",
   "execution_count": 20,
   "metadata": {},
   "outputs": [],
   "source": [
    "def multi_corr2d_in_out(X, K): # 注意 X 是三维的 tensor, K 是四维的 tensor\n",
    "    return torch.stack([multi_corr2d_in(X, k) for k in K], 0)"
   ]
  },
  {
   "cell_type": "markdown",
   "metadata": {},
   "source": [
    "输入 $X$ : $c_i\\times n_h \\times n_w$\n",
    "\n",
    "核 $W$ : $c_o \\times c_i \\times k_h \\times k_w$"
   ]
  },
  {
   "cell_type": "code",
   "execution_count": 25,
   "metadata": {},
   "outputs": [
    {
     "data": {
      "text/plain": [
       "torch.Size([2, 2, 2])"
      ]
     },
     "execution_count": 25,
     "metadata": {},
     "output_type": "execute_result"
    }
   ],
   "source": [
    "X = torch.normal(mean=0, std=1, size=(3, 3, 3))\n",
    "K = torch.normal(mean=0, std=1, size=(2, 3, 2, 2))\n",
    "multi_corr2d_in_out(X, K).shape"
   ]
  },
  {
   "cell_type": "markdown",
   "metadata": {},
   "source": [
    "#### $1 \\times 1$ 的卷积层\n",
    "\n",
    "可以用于提取相邻通道间的相关特征, $1 \\times 1$ 的卷积层等价于一个全连接层, 下面验证下"
   ]
  },
  {
   "cell_type": "code",
   "execution_count": 26,
   "metadata": {},
   "outputs": [],
   "source": [
    "def multi_corr2d_in_out_1x1(X, K):\n",
    "    co, ci, h, w = K.shape[0], X.shape[0], X.shape[1], X.shape[2]\n",
    "    X = X.reshape((ci, -1))\n",
    "    K = K.reshape((co, -1))\n",
    "    Y = torch.matmul(K, X)\n",
    "    return Y.reshape((co, h, w))"
   ]
  },
  {
   "cell_type": "markdown",
   "metadata": {},
   "source": [
    "验证结果"
   ]
  },
  {
   "cell_type": "code",
   "execution_count": 27,
   "metadata": {},
   "outputs": [
    {
     "name": "stdout",
     "output_type": "stream",
     "text": [
      "tensor(3.3528e-07)\n"
     ]
    }
   ],
   "source": [
    "X = torch.normal(mean=0, std=1, size=(3, 3, 3))\n",
    "K = torch.normal(mean=0, std=1, size=(2, 3, 1, 1))\n",
    "Y1 = multi_corr2d_in_out(X, K)\n",
    "Y2 = multi_corr2d_in_out_1x1(X, K)\n",
    "print(torch.abs(Y1-Y2).sum())"
   ]
  }
 ],
 "metadata": {
  "kernelspec": {
   "display_name": "Python 3.9.13 64-bit",
   "language": "python",
   "name": "python3"
  },
  "language_info": {
   "codemirror_mode": {
    "name": "ipython",
    "version": 3
   },
   "file_extension": ".py",
   "mimetype": "text/x-python",
   "name": "python",
   "nbconvert_exporter": "python",
   "pygments_lexer": "ipython3",
   "version": "3.9.13"
  },
  "orig_nbformat": 4,
  "vscode": {
   "interpreter": {
    "hash": "81e75cef6ba1b10275bdce9a4ca9089c470de9a530eb43eaa03a6734d261d4ab"
   }
  }
 },
 "nbformat": 4,
 "nbformat_minor": 2
}
